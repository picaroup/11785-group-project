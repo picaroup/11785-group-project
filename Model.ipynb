{
 "cells": [
  {
   "cell_type": "code",
   "execution_count": 2,
   "id": "3dac8a40",
   "metadata": {},
   "outputs": [],
   "source": [
    "import librosa\n",
    "import os\n",
    "import pandas as pd\n",
    "import pickle\n",
    "from sklearn.model_selection import train_test_split\n",
    "import numpy as np\n",
    "import torch\n",
    "import numpy as np\n",
    "import torch.nn as nn\n",
    "import torch.nn.functional as F\n",
    "#from torchsummaryX import summary\n",
    "from torch.utils.data import Dataset, DataLoader\n",
    "from torch.nn.utils.rnn import pad_sequence, pack_padded_sequence, pad_packed_sequence\n",
    "import csv\n",
    "import torch.optim as optim\n",
    "#import feature_extraction.py\n",
    "from tqdm import tqdm\n",
    "device = 'cuda' if torch.cuda.is_available() else 'cpu'"
   ]
  },
  {
   "cell_type": "code",
   "execution_count": 3,
   "id": "2c7433a0",
   "metadata": {},
   "outputs": [],
   "source": [
    "class Network(nn.Module):\n",
    "\n",
    "    def __init__(self): # You can add any extra arguments as you wish\n",
    "\n",
    "        super(Network, self).__init__()\n",
    "        \n",
    "        self.lstm = nn.LSTM(input_size=431, hidden_size = 256, num_layers=2, dropout=.1, bidirectional=True, batch_first=True)# TODO: # Create a single layer, uni-directional LSTM with hidden_size = 256\n",
    "\n",
    "        self.classification = nn.Sequential(nn.ReLU(),\n",
    "                                            nn.Linear(512,1))\n",
    "            # TODO: Create a single classification layer using nn.Linear()\n",
    "\n",
    "    def forward(self, x, x_length): # TODO: You need to pass atleast 1 more parameter apart from self and x\n",
    "        x = torch.transpose(x, 1, 2)\n",
    "        packed_input = pack_padded_sequence(x,x_length, batch_first = True, enforce_sorted=False) # TODO: Pack the input with pack_padded_sequence. Look at the parameters it requires\n",
    "\n",
    "        \n",
    "        #packed_input = pack_padded_sequence(x,length.clamp(max=max_expected_len), batch_first = True, enforce_sorted=False)\n",
    "        out1, (out2, out3) =  self.lstm(packed_input) # TODO: Pass packed input to self.lstm\n",
    "        # As you may see from the LSTM docs, LSTM returns 3 vectors. Which one do you need to pass to the next function?\n",
    "        out, lengths  = pad_packed_sequence(out1, batch_first=True) # TODO: Need to 'unpack' the LSTM output using pad_packed_sequence\n",
    "        #pdb.set_trace()\n",
    "        out = self.classification(out) # TODO: Pass unpacked LSTM output to the classification layer\n",
    "\n",
    "        #Is dimension 2 or 3? Or something else?\n",
    "   \n",
    "        #m = n.LogSoftmax(dim=2) # Optional: Do log softmax on the output. Which dimension?\n",
    "        out = F.log_softmax(out,dim=2)\n",
    "\n",
    "\n",
    "        return out, lengths # TODO: Need to return 2 variables\n",
    "\n",
    "model = model = Network().to(device)"
   ]
  },
  {
   "cell_type": "code",
   "execution_count": null,
   "id": "eaea5246",
   "metadata": {},
   "outputs": [],
   "source": []
  }
 ],
 "metadata": {
  "kernelspec": {
   "display_name": "Python 3",
   "language": "python",
   "name": "python3"
  },
  "language_info": {
   "codemirror_mode": {
    "name": "ipython",
    "version": 3
   },
   "file_extension": ".py",
   "mimetype": "text/x-python",
   "name": "python",
   "nbconvert_exporter": "python",
   "pygments_lexer": "ipython3",
   "version": "3.8.12"
  }
 },
 "nbformat": 4,
 "nbformat_minor": 5
}
