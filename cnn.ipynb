{
  "cells": [
    {
      "cell_type": "code",
      "source": [
        "# put download.sh and this notebook in the same folder on google drive. Remember to modify path!\n",
        "from google.colab import drive\n",
        "drive.mount('/content/gdrive')\n",
        "\n",
        "import os\n",
        "\n",
        "path = \"/content/gdrive/MyDrive/project\"\n",
        "os.chdir(path)"
      ],
      "metadata": {
        "colab": {
          "base_uri": "https://localhost:8080/"
        },
        "id": "UtNil9V2c8q1",
        "outputId": "9b08d64a-f0ce-47e4-8d63-e6ff701f93e1"
      },
      "execution_count": 1,
      "outputs": [
        {
          "output_type": "stream",
          "name": "stdout",
          "text": [
            "Drive already mounted at /content/gdrive; to attempt to forcibly remount, call drive.mount(\"/content/gdrive\", force_remount=True).\n"
          ]
        }
      ]
    },
    {
      "cell_type": "code",
      "execution_count": 2,
      "metadata": {
        "id": "WtEco4e0HK7-"
      },
      "outputs": [],
      "source": [
        "import librosa\n",
        "import os\n",
        "import pandas as pd\n",
        "import pickle\n",
        "from sklearn.model_selection import train_test_split\n",
        "import numpy as np\n",
        "import torch\n",
        "import numpy as np\n",
        "import torch.nn as nn\n",
        "import torch.nn.functional as F\n",
        "#from torchsummaryX import summary\n",
        "from torch.utils.data import Dataset, DataLoader\n",
        "from torch.nn.utils.rnn import pad_sequence, pack_padded_sequence, pad_packed_sequence\n",
        "import csv\n",
        "import torch.optim as optim\n",
        "from tqdm import tqdm\n",
        "from os.path import exists"
      ]
    },
    {
      "cell_type": "markdown",
      "source": [
        "# **FEATURE EXTRACTION**"
      ],
      "metadata": {
        "id": "-YuxpEVrejsy"
      }
    },
    {
      "cell_type": "code",
      "source": [
        "configs = [\n",
        "    [2048, 512, 2048],\n",
        "    [2048, 512, 1024],\n",
        "    [2048, 1024, 1024],\n",
        "    [1024, 512, 1024],\n",
        "    [1024, 256, 1024]\n",
        "]\n",
        "\n",
        "def process_data(personality_dir=\"Personality_Scores\", metadata_dir=\"Metadata\", audio_dir=\"Audio_clips\"):\n",
        "    df_personality = get_personality_scores(personality_dir)\n",
        "    df_metadata = get_metadata(metadata_dir)\n",
        "    df_feature = get_features(audio_dir)\n",
        "    \n",
        "    df = pd.merge(df_personality, df_metadata, left_on=\"Clip_ID\", right_on=\"Clip_ID\")\n",
        "    df = pd.merge(df, df_feature, left_on=\"Clip_ID\", right_on=\"Clip_ID\")\n",
        "    \n",
        "    return df\n",
        "\n",
        "def get_personality_scores(data_dir_path):\n",
        "    df = pd.read_csv(data_dir_path + \"/Score_011.csv\")\n",
        "\n",
        "    for i in range(1, 11):\n",
        "        df_tmp = pd.read_csv(data_dir_path + f\"/Score_0{i:02d}.csv\")\n",
        "        \n",
        "        df[\"Extraversion\"] = df[\"Extraversion\"] + df_tmp[\"Extraversion\"]\n",
        "        df[\"Agreeableness\"] = df[\"Agreeableness\"] + df_tmp[\"Agreeableness\"]\n",
        "        df[\"Conscientiousness\"] = df[\"Conscientiousness\"] + df_tmp[\"Conscientiousness\"]\n",
        "        df[\"Neuroticism\"] = df[\"Neuroticism\"] + df_tmp[\"Neuroticism\"]\n",
        "        df[\"Openness\"] = df[\"Openness\"] + df_tmp[\"Openness\"]\n",
        "\n",
        "    df[\"Extraversion\"] = df[\"Extraversion\"] / 11\n",
        "    df[\"Agreeableness\"] = df[\"Agreeableness\"] / 11\n",
        "    df[\"Conscientiousness\"] = df[\"Conscientiousness\"] / 11\n",
        "    df[\"Neuroticism\"] = df[\"Neuroticism\"] / 11\n",
        "    df[\"Openness\"] = df[\"Openness\"] / 11\n",
        "    \n",
        "    return df\n",
        "\n",
        "def get_metadata(data_dir_path):\n",
        "    df = pd.read_csv(data_dir_path + \"/Metadata.csv\")\n",
        "    return df\n",
        "\n",
        "def get_features(data_dir_path):\n",
        "    data = []\n",
        "    \n",
        "    for filename in os.listdir(data_dir_path):\n",
        "        f = os.path.join(data_dir_path, filename)\n",
        "        \n",
        "        y, sr = librosa.load(f)\n",
        "        output = []\n",
        "        pad_len = 0\n",
        "        for config in configs:\n",
        "            s = librosa.feature.melspectrogram(y=y, sr=sr, n_fft=config[0], hop_length=config[1], win_length=config[2])\n",
        "            pad_len = max(pad_len, len(s[0]))\n",
        "            output.append(s)\n",
        "        \n",
        "        for i, cur in enumerate(output):\n",
        "            cur = np.pad(cur, ((0,0), (0, pad_len-len(cur[0]))))\n",
        "            output[i] = cur\n",
        "        output = np.array(output)\n",
        "\n",
        "        data.append([filename.split(\".\")[0], output])\n",
        "    \n",
        "    df = pd.DataFrame(data, columns=[\"Clip_ID\", \"features\"])\n",
        "    return df\n"
      ],
      "metadata": {
        "id": "pscqanhle4o6"
      },
      "execution_count": 3,
      "outputs": []
    },
    {
      "cell_type": "code",
      "source": [
        "if exists(\"./processed_data.pkl\"):\n",
        "  with open(\"./processed_data.pkl\", 'rb') as f:\n",
        "    data = pickle.load(f)\n",
        "else:\n",
        "  ! bash download.sh\n",
        "  data = process_data()\n",
        "  data.to_pickle(\"processed_data.pkl\")"
      ],
      "metadata": {
        "id": "_O891aRYfMmn"
      },
      "execution_count": 4,
      "outputs": []
    },
    {
      "cell_type": "markdown",
      "source": [
        "# **HYPER PARAMETERS**"
      ],
      "metadata": {
        "id": "NLfEoNTNfzvx"
      }
    },
    {
      "cell_type": "code",
      "execution_count": 5,
      "metadata": {
        "id": "E2-HVmHoDUwc"
      },
      "outputs": [],
      "source": [
        "agg_type = 'numerical'\n",
        "features = ['Extraversion', 'Agreeableness', 'Conscientiousness', 'Neuroticism', 'Openness']\n",
        "\n",
        "if agg_type == 'numerical':\n",
        "    agg = ''\n",
        "else:\n",
        "    agg = '_categorical'\n",
        "\n",
        "batch_size = 16\n",
        "lr = 1e-3\n",
        "epochs = 200"
      ]
    },
    {
      "cell_type": "markdown",
      "source": [
        "# **DATA LOADER**"
      ],
      "metadata": {
        "id": "8vTQl0BvjlV5"
      }
    },
    {
      "cell_type": "code",
      "execution_count": 6,
      "metadata": {
        "id": "2oCa16OdB5NW"
      },
      "outputs": [],
      "source": [
        "if agg_type=='numerical':\n",
        "    cutoff = 0\n",
        "    data['Extraversion'] = np.where(data['Extraversion'] > cutoff,1,0)\n",
        "    data['Agreeableness'] = np.where(data['Agreeableness'] > cutoff,1,0)\n",
        "    data['Conscientiousness'] = np.where(data['Conscientiousness'] > cutoff,1,0)\n",
        "    data['Neuroticism'] = np.where(data['Neuroticism'] > cutoff,1,0)\n",
        "    data['Openness'] = np.where(data['Openness'] > cutoff,1,0)\n"
      ]
    },
    {
      "cell_type": "code",
      "execution_count": 7,
      "metadata": {
        "id": "LZThHOsWJUrG"
      },
      "outputs": [],
      "source": [
        "#Split dataframe into train, validation, and test sets\n",
        "train, val, test = np.split(\n",
        "    data.sample(frac=1, random_state=101),\n",
        "    [int(.7*len(data)), int(.85*len(data))]\n",
        ")"
      ]
    },
    {
      "cell_type": "code",
      "execution_count": 8,
      "metadata": {
        "id": "ulTapFcEJUrJ"
      },
      "outputs": [],
      "source": [
        "\n",
        "class LibriSamplesTrain(torch.utils.data.Dataset):\n",
        "    def __init__(self, dataframe):\n",
        "        self.dataframe = dataframe\n",
        "\n",
        "    def __len__(self):\n",
        "        return len(self.dataframe.index)\n",
        "    \n",
        "    def __getitem__(self, ind):\n",
        "        X = torch.Tensor(np.array(self.dataframe['features'].iloc[ind])) # 5 * 128 * T\n",
        "        X = X.T # T * 128 * 5\n",
        "\n",
        "        ys = [self.dataframe[f].iloc[ind] for f in features]\n",
        "        Y = torch.Tensor(np.array(ys)) # 5\n",
        "        return X, Y\n",
        "\n",
        "    def collate_fn(batch):\n",
        "        batch_x = [x for x,y in batch] # (B * T * 128 * 5)\n",
        "        batch_y = [y for x,y in batch] # (B * 5)\n",
        "        lengths_x = [x.shape[0] for x in batch_x]\n",
        "        batch_x_pad = pad_sequence(batch_x, batch_first=True) # B, T(max time dimension in the batch), 128, 5\n",
        "        \n",
        "        lengths_y = [y.shape[0] for y in batch_y] \n",
        "        batch_y_pad = pad_sequence(batch_y, batch_first=True) # B * 5\n",
        "\n",
        "        return batch_x_pad, batch_y_pad, torch.Tensor(lengths_x), torch.Tensor(lengths_y)\n",
        "\n",
        "class LibriSamplesTest(torch.utils.data.Dataset):\n",
        "    def __init__(self, dataframe):\n",
        "        self.dataframe = dataframe\n",
        "\n",
        "    def __len__(self):\n",
        "        return len(self.dataframe.index)\n",
        "    \n",
        "    def __getitem__(self, ind):\n",
        "        X = torch.Tensor(np.array(self.dataframe['features'].iloc[ind])) # T * 128 * 5\n",
        "        return X\n",
        "\n",
        "    def collate_fn(batch):\n",
        "        batch_x = [x for x,y in batch] # (B * T * 128 * 5)\n",
        "\n",
        "        lengths_x = [x.shape[0] for x in batch_x]\n",
        "        batch_x_pad = pad_sequence(batch_x, batch_first=True) # B, T(max time dimension in the batch), 128, 5\n",
        "\n",
        "        return batch_x_pad, torch.Tensor(lengths_x)\n"
      ]
    },
    {
      "cell_type": "code",
      "execution_count": 9,
      "metadata": {
        "colab": {
          "base_uri": "https://localhost:8080/"
        },
        "id": "4kzo7NwnJUrM",
        "outputId": "7051feeb-ae89-4f3b-e69f-8415f72548cf"
      },
      "outputs": [
        {
          "output_type": "stream",
          "name": "stdout",
          "text": [
            "Batch size:  16\n",
            "Train dataset samples = 448, batches = 28\n",
            "Val dataset samples = 96, batches = 6\n",
            "Test dataset samples = 96, batches = 6\n"
          ]
        }
      ],
      "source": [
        "train_data = LibriSamplesTrain(train)\n",
        "val_data = LibriSamplesTrain(val)\n",
        "test_data = LibriSamplesTest(test)\n",
        "\n",
        "train_loader = torch.utils.data.DataLoader(train_data, batch_size = batch_size, shuffle=True, collate_fn = LibriSamplesTrain.collate_fn)\n",
        "val_loader = torch.utils.data.DataLoader(val_data, batch_size = batch_size, shuffle=False, collate_fn = LibriSamplesTrain.collate_fn) \n",
        "test_loader = torch.utils.data.DataLoader(test_data, batch_size = batch_size, shuffle=False, collate_fn = LibriSamplesTest.collate_fn) \n",
        "\n",
        "print(\"Batch size: \", batch_size)\n",
        "print(\"Train dataset samples = {}, batches = {}\".format(train_data.__len__(), len(train_loader)))\n",
        "print(\"Val dataset samples = {}, batches = {}\".format(val_data.__len__(), len(val_loader)))\n",
        "print(\"Test dataset samples = {}, batches = {}\".format(test_data.__len__(), len(test_loader)))"
      ]
    },
    {
      "cell_type": "markdown",
      "source": [
        "# **MODEL**"
      ],
      "metadata": {
        "id": "n5QJu3BqUFZ0"
      }
    },
    {
      "cell_type": "code",
      "execution_count": 10,
      "metadata": {
        "id": "lyS2o68JJUrP"
      },
      "outputs": [],
      "source": [
        "class Network(nn.Module):\n",
        "\n",
        "    def __init__(self):\n",
        "\n",
        "        super(Network, self).__init__()\n",
        "        \n",
        "        self.embedding = nn.Sequential(\n",
        "            nn.Conv2d(in_channels=5, out_channels=128, kernel_size=3, stride=1, padding=1, bias=False),\n",
        "            nn.BatchNorm2d(128),\n",
        "            nn.GELU(),\n",
        "            nn.AvgPool2d((3, 3)),\n",
        "            nn.Conv2d(in_channels=128, out_channels=256, kernel_size=3, stride=2, padding=1, bias=False),\n",
        "            nn.BatchNorm2d(256),\n",
        "            nn.GELU(),\n",
        "            nn.Dropout2d(0.2),\n",
        "            nn.Conv2d(in_channels=256, out_channels=512, kernel_size=3, stride=1, padding=1, bias=False),\n",
        "            nn.BatchNorm2d(512),\n",
        "            nn.GELU(),\n",
        "            nn.AvgPool2d((3, 3))\n",
        "        )\n",
        "\n",
        "        self.flatten = nn.Sequential(\n",
        "            nn.AdaptiveAvgPool2d((1, 1)),\n",
        "            nn.Flatten()\n",
        "        )\n",
        "\n",
        "        self.classification = nn.Sequential(\n",
        "            nn.Linear(512, 2048),\n",
        "            nn.BatchNorm1d(2048),\n",
        "            nn.GELU(),\n",
        "            nn.Linear(2048, 512),\n",
        "            nn.BatchNorm1d(512),\n",
        "            nn.GELU(),\n",
        "            nn.Dropout2d(0.3),\n",
        "            nn.Linear(512, 5),\n",
        "        )\n",
        "\n",
        "    def forward(self, x):      \n",
        "        x = x.transpose(1, 3) # B * 5 * 128 * T \n",
        "        out = self.embedding(x) # B * 512 * H * W (H and W are from CNN)\n",
        "        out = self.flatten(out) # B * 512 * 1\n",
        "        out = self.classification(out) # B * num_class\n",
        "        out = torch.sigmoid(out)\n",
        "        return out"
      ]
    },
    {
      "cell_type": "code",
      "execution_count": 11,
      "metadata": {
        "colab": {
          "base_uri": "https://localhost:8080/"
        },
        "id": "AtKarinSJUrP",
        "outputId": "cc61f5b4-b97f-46de-f424-b3bf7dcdece3"
      },
      "outputs": [
        {
          "output_type": "stream",
          "name": "stdout",
          "text": [
            "Network(\n",
            "  (embedding): Sequential(\n",
            "    (0): Conv2d(5, 128, kernel_size=(3, 3), stride=(1, 1), padding=(1, 1), bias=False)\n",
            "    (1): BatchNorm2d(128, eps=1e-05, momentum=0.1, affine=True, track_running_stats=True)\n",
            "    (2): GELU()\n",
            "    (3): AvgPool2d(kernel_size=(3, 3), stride=(3, 3), padding=0)\n",
            "    (4): Conv2d(128, 256, kernel_size=(3, 3), stride=(2, 2), padding=(1, 1), bias=False)\n",
            "    (5): BatchNorm2d(256, eps=1e-05, momentum=0.1, affine=True, track_running_stats=True)\n",
            "    (6): GELU()\n",
            "    (7): Dropout2d(p=0.2, inplace=False)\n",
            "    (8): Conv2d(256, 512, kernel_size=(3, 3), stride=(1, 1), padding=(1, 1), bias=False)\n",
            "    (9): BatchNorm2d(512, eps=1e-05, momentum=0.1, affine=True, track_running_stats=True)\n",
            "    (10): GELU()\n",
            "    (11): AvgPool2d(kernel_size=(3, 3), stride=(3, 3), padding=0)\n",
            "  )\n",
            "  (flatten): Sequential(\n",
            "    (0): AdaptiveAvgPool2d(output_size=(1, 1))\n",
            "    (1): Flatten(start_dim=1, end_dim=-1)\n",
            "  )\n",
            "  (classification): Sequential(\n",
            "    (0): Linear(in_features=512, out_features=2048, bias=True)\n",
            "    (1): BatchNorm1d(2048, eps=1e-05, momentum=0.1, affine=True, track_running_stats=True)\n",
            "    (2): GELU()\n",
            "    (3): Linear(in_features=2048, out_features=512, bias=True)\n",
            "    (4): BatchNorm1d(512, eps=1e-05, momentum=0.1, affine=True, track_running_stats=True)\n",
            "    (5): GELU()\n",
            "    (6): Dropout2d(p=0.3, inplace=False)\n",
            "    (7): Linear(in_features=512, out_features=5, bias=True)\n",
            "  )\n",
            ")\n"
          ]
        }
      ],
      "source": [
        "device = 'cuda' if torch.cuda.is_available() else 'cpu'\n",
        "\n",
        "model = Network().to(device)\n",
        "print(model)"
      ]
    },
    {
      "cell_type": "code",
      "execution_count": 12,
      "metadata": {
        "id": "Eo0qpBACJUrQ"
      },
      "outputs": [],
      "source": [
        "criterion = nn.BCELoss()\n",
        "optimizer = torch.optim.Adam(model.parameters(), lr = lr, weight_decay=5e-6)\n",
        "scheduler = torch.optim.lr_scheduler.StepLR(optimizer, 20, gamma=0.5)"
      ]
    },
    {
      "cell_type": "markdown",
      "source": [
        "# **TRAIN**"
      ],
      "metadata": {
        "id": "tigsVplphgsi"
      }
    },
    {
      "cell_type": "code",
      "execution_count": null,
      "metadata": {
        "id": "E-UpMGmcJUrQ",
        "scrolled": false
      },
      "outputs": [],
      "source": [
        "train_acc_list = list()\n",
        "train_loss_list = list()\n",
        "lr_list = list()\n",
        "validation_acc_list = list()\n",
        "\n",
        "print('train_loader: ', len(train_loader))\n",
        "\n",
        "for epoch in range(epochs):\n",
        "\n",
        "    batch_bar = tqdm(total=len(train_loader), dynamic_ncols=True, leave=False, position=0, desc='Train') \n",
        "    total_loss = 0\n",
        "    num_correct=0\n",
        "\n",
        "    #train\n",
        "    model.train()\n",
        "    for i, data in enumerate(train_loader):\n",
        "        optimizer.zero_grad() \n",
        "\n",
        "        x, y, xlens, ylens = data\n",
        "        x = x.to(device)\n",
        "        y = y.to(device)\n",
        "\n",
        "        output=model(x)\n",
        "        \n",
        "        # prediction_out = (output>0.5).float()\n",
        "        loss = criterion(output, y)\n",
        "        loss.backward()\n",
        "        optimizer.step()\n",
        "        \n",
        "        total_loss += loss.item()\n",
        "        # print(\"loss\", loss.item())\n",
        "        batch_bar.set_postfix(\n",
        "          loss=\"{:.04f}\".format(float(total_loss/(i+1)))\n",
        "        )\n",
        "        batch_bar.update()\n",
        "\n",
        "    torch.cuda.empty_cache()\n",
        "\n",
        "    # validate\n",
        "    model.eval()\n",
        "    batch_bar.close()\n",
        "    val_num_correct = 0\n",
        "    for i, data in enumerate(val_loader):\n",
        "        x, y, xlens, ylens = data\n",
        "        x = x.to(device)\n",
        "        y = y.to(device)\n",
        "\n",
        "        val_outputs = model(x)\n",
        "        prediction_val = (val_outputs>0.5).float()\n",
        "\n",
        "        cur_count = 0\n",
        "        for i in range(len(prediction_val)):\n",
        "            predict, real = prediction_val[i], y[i]\n",
        "            for j in range(len(predict)):\n",
        "                if int(predict[j]) == int(real[j]):\n",
        "                  cur_count += 1\n",
        "        \n",
        "        val_num_correct += cur_count\n",
        "        \n",
        "    torch.cuda.empty_cache()\n",
        "\n",
        "    train_loss = float(total_loss / len(train_loader))\n",
        "    train_loss_list.append(train_loss)\n",
        "    lr = float(optimizer.param_groups[0]['lr'])\n",
        "    lr_list.append(lr)\n",
        "    validation_acc = 100 * val_num_correct / (len(val_loader)*batch_size)\n",
        "    validation_acc_list.append(validation_acc)\n",
        "\n",
        "    print(\"Epoch {}/{}: Train Loss {}, Learning Rate {}, Val Acc {:.04f}%\".format(\n",
        "        epoch + 1,\n",
        "        epochs,\n",
        "        float(total_loss / len(train_loader)),\n",
        "        float(optimizer.param_groups[0]['lr']),\n",
        "        100 * (val_num_correct/5) / (len(val_loader)*batch_size)))\n",
        "    \n",
        "    scheduler.step()"
      ]
    }
  ],
  "metadata": {
    "accelerator": "GPU",
    "colab": {
      "collapsed_sections": [],
      "name": "cnn.ipynb",
      "provenance": [],
      "machine_shape": "hm",
      "background_execution": "on"
    },
    "interpreter": {
      "hash": "a1a47bf819ad7cd48b1d6f6457c70b719b72bc4eea580dc2d5ab4e404b26ab46"
    },
    "kernelspec": {
      "display_name": "Python 3 (ipykernel)",
      "language": "python",
      "name": "python3"
    },
    "language_info": {
      "codemirror_mode": {
        "name": "ipython",
        "version": 3
      },
      "file_extension": ".py",
      "mimetype": "text/x-python",
      "name": "python",
      "nbconvert_exporter": "python",
      "pygments_lexer": "ipython3",
      "version": "3.9.7"
    }
  },
  "nbformat": 4,
  "nbformat_minor": 0
}