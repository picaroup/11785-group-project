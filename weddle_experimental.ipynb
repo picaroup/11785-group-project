{
 "cells": [
  {
   "cell_type": "code",
   "execution_count": 26,
   "metadata": {},
   "outputs": [],
   "source": [
    "import librosa\n",
    "import os\n",
    "import pandas as pd\n",
    "import pickle\n",
    "from sklearn.model_selection import train_test_split\n",
    "import numpy as np\n",
    "import torch\n",
    "import numpy as np\n",
    "import torch.nn as nn\n",
    "import torch.nn.functional as F\n",
    "#from torchsummaryX import summary\n",
    "from torch.utils.data import Dataset, DataLoader\n",
    "from torch.nn.utils.rnn import pad_sequence, pack_padded_sequence, pad_packed_sequence\n",
    "import csv\n",
    "import torch.optim as optim\n",
    "#import feature_extraction.py"
   ]
  },
  {
   "cell_type": "code",
   "execution_count": 5,
   "metadata": {},
   "outputs": [],
   "source": [
    "with open('./data/processed_data.pkl', 'rb') as f:\n",
    "    data = pickle.load(f)"
   ]
  },
  {
   "cell_type": "code",
   "execution_count": 27,
   "metadata": {},
   "outputs": [
    {
     "data": {
      "text/html": [
       "<div>\n",
       "<style scoped>\n",
       "    .dataframe tbody tr th:only-of-type {\n",
       "        vertical-align: middle;\n",
       "    }\n",
       "\n",
       "    .dataframe tbody tr th {\n",
       "        vertical-align: top;\n",
       "    }\n",
       "\n",
       "    .dataframe thead th {\n",
       "        text-align: right;\n",
       "    }\n",
       "</style>\n",
       "<table border=\"1\" class=\"dataframe\">\n",
       "  <thead>\n",
       "    <tr style=\"text-align: right;\">\n",
       "      <th></th>\n",
       "      <th>Clip_ID</th>\n",
       "      <th>Extraversion</th>\n",
       "      <th>Agreeableness</th>\n",
       "      <th>Conscientiousness</th>\n",
       "      <th>Neuroticism</th>\n",
       "      <th>Openness</th>\n",
       "      <th>Speaker_ID</th>\n",
       "      <th>Gender</th>\n",
       "      <th>Status</th>\n",
       "      <th>features</th>\n",
       "    </tr>\n",
       "  </thead>\n",
       "  <tbody>\n",
       "    <tr>\n",
       "      <th>0</th>\n",
       "      <td>cut_feb1601-guest-0-2</td>\n",
       "      <td>1.727273</td>\n",
       "      <td>-1.363636</td>\n",
       "      <td>1.545455</td>\n",
       "      <td>1.545455</td>\n",
       "      <td>0.727273</td>\n",
       "      <td>92</td>\n",
       "      <td>M</td>\n",
       "      <td>J</td>\n",
       "      <td>[[0.00027620237, 0.0016822875, 0.001016233, 0....</td>\n",
       "    </tr>\n",
       "    <tr>\n",
       "      <th>1</th>\n",
       "      <td>cut_feb1601-guest-2-10</td>\n",
       "      <td>0.727273</td>\n",
       "      <td>1.181818</td>\n",
       "      <td>1.909091</td>\n",
       "      <td>-1.727273</td>\n",
       "      <td>0.909091</td>\n",
       "      <td>183</td>\n",
       "      <td>M</td>\n",
       "      <td>J</td>\n",
       "      <td>[[0.38929665, 0.1189508, 0.0048722113, 0.00183...</td>\n",
       "    </tr>\n",
       "    <tr>\n",
       "      <th>2</th>\n",
       "      <td>cut_feb1601-human-6</td>\n",
       "      <td>2.363636</td>\n",
       "      <td>-0.636364</td>\n",
       "      <td>1.363636</td>\n",
       "      <td>-0.545455</td>\n",
       "      <td>0.363636</td>\n",
       "      <td>41</td>\n",
       "      <td>M</td>\n",
       "      <td>G</td>\n",
       "      <td>[[0.7792231, 0.29407483, 0.03487174, 0.0134306...</td>\n",
       "    </tr>\n",
       "    <tr>\n",
       "      <th>3</th>\n",
       "      <td>cut_feb1602-guest-1-5</td>\n",
       "      <td>1.272727</td>\n",
       "      <td>0.636364</td>\n",
       "      <td>1.818182</td>\n",
       "      <td>-0.454545</td>\n",
       "      <td>0.000000</td>\n",
       "      <td>3</td>\n",
       "      <td>M</td>\n",
       "      <td>J</td>\n",
       "      <td>[[0.10963277, 0.09769615, 0.021039093, 0.02427...</td>\n",
       "    </tr>\n",
       "    <tr>\n",
       "      <th>4</th>\n",
       "      <td>cut_feb1602-guest-3-17</td>\n",
       "      <td>1.363636</td>\n",
       "      <td>-0.909091</td>\n",
       "      <td>2.181818</td>\n",
       "      <td>0.909091</td>\n",
       "      <td>0.636364</td>\n",
       "      <td>123</td>\n",
       "      <td>M</td>\n",
       "      <td>J</td>\n",
       "      <td>[[0.077622935, 0.14913887, 0.041750234, 0.0176...</td>\n",
       "    </tr>\n",
       "  </tbody>\n",
       "</table>\n",
       "</div>"
      ],
      "text/plain": [
       "                  Clip_ID  Extraversion  Agreeableness  Conscientiousness  \\\n",
       "0   cut_feb1601-guest-0-2      1.727273      -1.363636           1.545455   \n",
       "1  cut_feb1601-guest-2-10      0.727273       1.181818           1.909091   \n",
       "2     cut_feb1601-human-6      2.363636      -0.636364           1.363636   \n",
       "3   cut_feb1602-guest-1-5      1.272727       0.636364           1.818182   \n",
       "4  cut_feb1602-guest-3-17      1.363636      -0.909091           2.181818   \n",
       "\n",
       "   Neuroticism  Openness  Speaker_ID Gender Status  \\\n",
       "0     1.545455  0.727273          92      M      J   \n",
       "1    -1.727273  0.909091         183      M      J   \n",
       "2    -0.545455  0.363636          41      M      G   \n",
       "3    -0.454545  0.000000           3      M      J   \n",
       "4     0.909091  0.636364         123      M      J   \n",
       "\n",
       "                                            features  \n",
       "0  [[0.00027620237, 0.0016822875, 0.001016233, 0....  \n",
       "1  [[0.38929665, 0.1189508, 0.0048722113, 0.00183...  \n",
       "2  [[0.7792231, 0.29407483, 0.03487174, 0.0134306...  \n",
       "3  [[0.10963277, 0.09769615, 0.021039093, 0.02427...  \n",
       "4  [[0.077622935, 0.14913887, 0.041750234, 0.0176...  "
      ]
     },
     "execution_count": 27,
     "metadata": {},
     "output_type": "execute_result"
    }
   ],
   "source": [
    "data.head()"
   ]
  },
  {
   "cell_type": "code",
   "execution_count": 21,
   "metadata": {},
   "outputs": [],
   "source": [
    "#Split dataframe into train, validation, and test sets\n",
    "train, val, test = np.split(data.sample(frac=1, random_state=101),\n",
    "[int(.7*len(data)), int(.85*len(data))])"
   ]
  },
  {
   "cell_type": "code",
   "execution_count": 14,
   "metadata": {},
   "outputs": [
    {
     "data": {
      "text/plain": [
       "numpy.ndarray"
      ]
     },
     "execution_count": 14,
     "metadata": {},
     "output_type": "execute_result"
    }
   ],
   "source": [
    "type(data['features'].iloc[0])"
   ]
  },
  {
   "cell_type": "code",
   "execution_count": 34,
   "metadata": {},
   "outputs": [
    {
     "data": {
      "text/plain": [
       "(128, 431)"
      ]
     },
     "execution_count": 34,
     "metadata": {},
     "output_type": "execute_result"
    }
   ],
   "source": [
    "train['features'].iloc[5].shape"
   ]
  },
  {
   "cell_type": "code",
   "execution_count": 115,
   "metadata": {},
   "outputs": [],
   "source": [
    "class LibriSamples(torch.utils.data.Dataset):\n",
    "    #Partition: the dataframe\n",
    "    def __init__(self, dataframe, test_order=None, trait=None):\n",
    "        #self.train=train\n",
    "\n",
    "        #The personality trait for this run through\n",
    "        self.trait = trait\n",
    "        self.dataframe = dataframe\n",
    "        #self.partition = partition\n",
    "\n",
    "    def __len__(self):\n",
    "        return len(self.dataframe.index)\n",
    "    \n",
    "\n",
    "    def __getitem__(self, ind):\n",
    "        #X = np.load(self.dataframe['features'].iloc[ind])\n",
    "        X = self.dataframe['features'].iloc[ind]\n",
    "        #Must transpose X so the the first value is length of audio and second value is number of features\n",
    "        X = X.transpose()\n",
    "        #if self.train:\n",
    "        #Y = np.array(self.dataframe[self.trait].iloc[ind])\n",
    "        Y = torch.tensor([self.dataframe[self.trait].iloc[ind]])\n",
    "        #if self.train:\n",
    "        return X, Y\n",
    "        #else:\n",
    "        #return X\n",
    "\n",
    "\n",
    "    def collate_fn(batch):\n",
    "        batch_x = [torch.from_numpy(x) for x,y in batch]\n",
    "        batch_y = [y for x,y in batch]\n",
    "        batch_x_pad = pad_sequence(batch_x, batch_first=True)\n",
    "\n",
    "        lengths_x = [x.shape[0] for x in batch_x]\n",
    "\n",
    "        #The y's should only have a length of 1, but we'll pad it anyway\n",
    "\n",
    "        batch_y_pad = pad_sequence(batch_y, batch_first=True)\n",
    "        #lengths_y = [y.shape[0] for y in batch_y]\n",
    "        lengths_y = [y.shape[0] for y in batch_y]\n",
    "\n",
    "        return batch_x_pad, batch_y_pad, torch.tensor(lengths_x), torch.tensor(lengths_y)\n"
   ]
  },
  {
   "cell_type": "code",
   "execution_count": 116,
   "metadata": {},
   "outputs": [],
   "source": [
    "train_data = LibriSamples(train, trait='Extraversion')\n",
    "val_data = LibriSamples(val, trait='Extraversion')\n",
    "test_data = LibriSamples(test, trait='Extraversion')"
   ]
  },
  {
   "cell_type": "code",
   "execution_count": 117,
   "metadata": {},
   "outputs": [],
   "source": [
    "batch_size = 64"
   ]
  },
  {
   "cell_type": "code",
   "execution_count": 118,
   "metadata": {},
   "outputs": [
    {
     "name": "stdout",
     "output_type": "stream",
     "text": [
      "Batch size:  64\n",
      "Train dataset samples = 448, batches = 7\n",
      "Val dataset samples = 96, batches = 2\n",
      "Test dataset samples = 96, batches = 2\n"
     ]
    }
   ],
   "source": [
    "train_loader = torch.utils.data.DataLoader(train_data, batch_size = batch_size, shuffle=True, collate_fn = LibriSamples.collate_fn)\n",
    "val_loader = torch.utils.data.DataLoader(val_data, batch_size = batch_size, shuffle=False, collate_fn = LibriSamples.collate_fn) \n",
    "test_loader = torch.utils.data.DataLoader(test_data, batch_size = batch_size, shuffle=False, collate_fn = LibriSamples.collate_fn) \n",
    "\n",
    "print(\"Batch size: \", batch_size)\n",
    "print(\"Train dataset samples = {}, batches = {}\".format(train_data.__len__(), len(train_loader)))\n",
    "print(\"Val dataset samples = {}, batches = {}\".format(val_data.__len__(), len(val_loader)))\n",
    "print(\"Test dataset samples = {}, batches = {}\".format(test_data.__len__(), len(test_loader)))"
   ]
  },
  {
   "cell_type": "code",
   "execution_count": 119,
   "metadata": {},
   "outputs": [
    {
     "name": "stdout",
     "output_type": "stream",
     "text": [
      "torch.Size([64, 431, 128]) torch.Size([64, 1]) torch.Size([64]) torch.Size([64])\n"
     ]
    }
   ],
   "source": [
    "for data in val_loader:\n",
    "    x, y, lx, ly = data\n",
    "    print(x.shape, y.shape, lx.shape, ly.shape)\n",
    "    break"
   ]
  },
  {
   "cell_type": "code",
   "execution_count": null,
   "metadata": {},
   "outputs": [],
   "source": []
  }
 ],
 "metadata": {
  "interpreter": {
   "hash": "a1a47bf819ad7cd48b1d6f6457c70b719b72bc4eea580dc2d5ab4e404b26ab46"
  },
  "kernelspec": {
   "display_name": "Python (acram)",
   "language": "python",
   "name": "python3"
  },
  "language_info": {
   "codemirror_mode": {
    "name": "ipython",
    "version": 3
   },
   "file_extension": ".py",
   "mimetype": "text/x-python",
   "name": "python",
   "nbconvert_exporter": "python",
   "pygments_lexer": "ipython3",
   "version": "3.7.1"
  },
  "orig_nbformat": 4
 },
 "nbformat": 4,
 "nbformat_minor": 2
}
