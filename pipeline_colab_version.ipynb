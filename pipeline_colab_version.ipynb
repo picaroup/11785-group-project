{
  "cells": [
    {
      "cell_type": "code",
      "execution_count": 8,
      "metadata": {
        "id": "WtEco4e0HK7-"
      },
      "outputs": [],
      "source": [
        "import librosa\n",
        "import os\n",
        "import pandas as pd\n",
        "import pickle\n",
        "from sklearn.model_selection import train_test_split\n",
        "import numpy as np\n",
        "import torch\n",
        "import numpy as np\n",
        "import torch.nn as nn\n",
        "import torch.nn.functional as F\n",
        "#from torchsummaryX import summary\n",
        "from torch.utils.data import Dataset, DataLoader\n",
        "from torch.nn.utils.rnn import pad_sequence, pack_padded_sequence, pad_packed_sequence\n",
        "import csv\n",
        "import torch.optim as optim\n",
        "from tqdm import tqdm\n",
        "#import feature_extraction.py"
      ]
    },
    {
      "cell_type": "markdown",
      "metadata": {
        "id": "UZQT-Dc8HK1r"
      },
      "source": [
        ""
      ]
    },
    {
      "cell_type": "code",
      "source": [
        "# loading processed_data.pkl from the google drive\n",
        " \n",
        "from google.colab import drive\n",
        "drive.mount('/content/drive')"
      ],
      "metadata": {
        "colab": {
          "base_uri": "https://localhost:8080/"
        },
        "id": "OyYQTkcfNFdD",
        "outputId": "d538c510-8963-4911-f32c-866aae2a19c4"
      },
      "execution_count": 7,
      "outputs": [
        {
          "output_type": "stream",
          "name": "stdout",
          "text": [
            "Drive already mounted at /content/drive; to attempt to forcibly remount, call drive.mount(\"/content/drive\", force_remount=True).\n"
          ]
        }
      ]
    },
    {
      "cell_type": "code",
      "execution_count": 9,
      "metadata": {
        "id": "-mNUw7oWCS7r"
      },
      "outputs": [],
      "source": [
        "# it takes forever to upload processed_data.pkl (1.3GB) through this method\n",
        "\n",
        "#from google.colab import files\n",
        "#files.upload()"
      ]
    },
    {
      "cell_type": "code",
      "execution_count": 191,
      "metadata": {
        "id": "E2-HVmHoDUwc"
      },
      "outputs": [],
      "source": [
        "agg_type = 'numerical'\n",
        "feature = 'Extraversion' # Extraversion, Agreeableness, Conscientiousness, Neuroticism, Openness\n",
        "\n",
        "batch_size = 16\n",
        "lr = 2e-3\n",
        "epochs=2\n"
      ]
    },
    {
      "cell_type": "markdown",
      "metadata": {
        "id": "NeT3t9IWJy2V"
      },
      "source": [
        "# New Section"
      ]
    },
    {
      "cell_type": "code",
      "source": [
        "#!pip3 install pickle5\n",
        "import pickle5 as pickle"
      ],
      "metadata": {
        "id": "SF8avXQlOYRf"
      },
      "execution_count": 192,
      "outputs": []
    },
    {
      "cell_type": "code",
      "execution_count": 216,
      "metadata": {
        "id": "nd-3Yvn1JUrD"
      },
      "outputs": [],
      "source": [
        "agg_type = 'numerical'\n",
        "if agg_type == 'numerical':\n",
        "    agg = ''\n",
        "else:\n",
        "    agg = '_categorical'\n",
        "\n",
        "# path of processed_data.pkl\n",
        "# to be updated depending on where the pkl file has been stored\n",
        "pkl_path = '/content/drive/MyDrive/Colab Notebooks/processed_data.pkl'\n",
        "\n",
        "with open(pkl_path, 'rb') as f:\n",
        "    data = pickle.load(f)"
      ]
    },
    {
      "cell_type": "code",
      "execution_count": 217,
      "metadata": {
        "colab": {
          "base_uri": "https://localhost:8080/",
          "height": 513
        },
        "id": "sAwaWZoKJUrF",
        "outputId": "08b04f4b-fe45-4887-899b-6c48ea4b5d15"
      },
      "outputs": [
        {
          "output_type": "execute_result",
          "data": {
            "text/plain": [
              "                  Clip_ID  Extraversion  Agreeableness  Conscientiousness  \\\n",
              "0   cut_feb1601-guest-0-2      1.727273      -1.363636           1.545455   \n",
              "1  cut_feb1601-guest-2-10      0.727273       1.181818           1.909091   \n",
              "2     cut_feb1601-human-6      2.363636      -0.636364           1.363636   \n",
              "3   cut_feb1602-guest-1-5      1.272727       0.636364           1.818182   \n",
              "4  cut_feb1602-guest-3-17      1.363636      -0.909091           2.181818   \n",
              "\n",
              "   Neuroticism  Openness  Speaker_ID Gender Status  \\\n",
              "0     1.545455  0.727273          92      M      J   \n",
              "1    -1.727273  0.909091         183      M      J   \n",
              "2    -0.545455  0.363636          41      M      G   \n",
              "3    -0.454545  0.000000           3      M      J   \n",
              "4     0.909091  0.636364         123      M      J   \n",
              "\n",
              "                                            features  \n",
              "0  [[[0.00027620237, 0.0016822875, 0.001016233, 0...  \n",
              "1  [[[0.38929665, 0.1189508, 0.0048722113, 0.0018...  \n",
              "2  [[[0.7792231, 0.29407483, 0.03487174, 0.013430...  \n",
              "3  [[[0.10963277, 0.097696155, 0.021039095, 0.024...  \n",
              "4  [[[0.077622935, 0.14913885, 0.04175023, 0.0176...  "
            ],
            "text/html": [
              "\n",
              "  <div id=\"df-967b87b9-af67-4ef2-8d48-6f6ce3cf633c\">\n",
              "    <div class=\"colab-df-container\">\n",
              "      <div>\n",
              "<style scoped>\n",
              "    .dataframe tbody tr th:only-of-type {\n",
              "        vertical-align: middle;\n",
              "    }\n",
              "\n",
              "    .dataframe tbody tr th {\n",
              "        vertical-align: top;\n",
              "    }\n",
              "\n",
              "    .dataframe thead th {\n",
              "        text-align: right;\n",
              "    }\n",
              "</style>\n",
              "<table border=\"1\" class=\"dataframe\">\n",
              "  <thead>\n",
              "    <tr style=\"text-align: right;\">\n",
              "      <th></th>\n",
              "      <th>Clip_ID</th>\n",
              "      <th>Extraversion</th>\n",
              "      <th>Agreeableness</th>\n",
              "      <th>Conscientiousness</th>\n",
              "      <th>Neuroticism</th>\n",
              "      <th>Openness</th>\n",
              "      <th>Speaker_ID</th>\n",
              "      <th>Gender</th>\n",
              "      <th>Status</th>\n",
              "      <th>features</th>\n",
              "    </tr>\n",
              "  </thead>\n",
              "  <tbody>\n",
              "    <tr>\n",
              "      <th>0</th>\n",
              "      <td>cut_feb1601-guest-0-2</td>\n",
              "      <td>1.727273</td>\n",
              "      <td>-1.363636</td>\n",
              "      <td>1.545455</td>\n",
              "      <td>1.545455</td>\n",
              "      <td>0.727273</td>\n",
              "      <td>92</td>\n",
              "      <td>M</td>\n",
              "      <td>J</td>\n",
              "      <td>[[[0.00027620237, 0.0016822875, 0.001016233, 0...</td>\n",
              "    </tr>\n",
              "    <tr>\n",
              "      <th>1</th>\n",
              "      <td>cut_feb1601-guest-2-10</td>\n",
              "      <td>0.727273</td>\n",
              "      <td>1.181818</td>\n",
              "      <td>1.909091</td>\n",
              "      <td>-1.727273</td>\n",
              "      <td>0.909091</td>\n",
              "      <td>183</td>\n",
              "      <td>M</td>\n",
              "      <td>J</td>\n",
              "      <td>[[[0.38929665, 0.1189508, 0.0048722113, 0.0018...</td>\n",
              "    </tr>\n",
              "    <tr>\n",
              "      <th>2</th>\n",
              "      <td>cut_feb1601-human-6</td>\n",
              "      <td>2.363636</td>\n",
              "      <td>-0.636364</td>\n",
              "      <td>1.363636</td>\n",
              "      <td>-0.545455</td>\n",
              "      <td>0.363636</td>\n",
              "      <td>41</td>\n",
              "      <td>M</td>\n",
              "      <td>G</td>\n",
              "      <td>[[[0.7792231, 0.29407483, 0.03487174, 0.013430...</td>\n",
              "    </tr>\n",
              "    <tr>\n",
              "      <th>3</th>\n",
              "      <td>cut_feb1602-guest-1-5</td>\n",
              "      <td>1.272727</td>\n",
              "      <td>0.636364</td>\n",
              "      <td>1.818182</td>\n",
              "      <td>-0.454545</td>\n",
              "      <td>0.000000</td>\n",
              "      <td>3</td>\n",
              "      <td>M</td>\n",
              "      <td>J</td>\n",
              "      <td>[[[0.10963277, 0.097696155, 0.021039095, 0.024...</td>\n",
              "    </tr>\n",
              "    <tr>\n",
              "      <th>4</th>\n",
              "      <td>cut_feb1602-guest-3-17</td>\n",
              "      <td>1.363636</td>\n",
              "      <td>-0.909091</td>\n",
              "      <td>2.181818</td>\n",
              "      <td>0.909091</td>\n",
              "      <td>0.636364</td>\n",
              "      <td>123</td>\n",
              "      <td>M</td>\n",
              "      <td>J</td>\n",
              "      <td>[[[0.077622935, 0.14913885, 0.04175023, 0.0176...</td>\n",
              "    </tr>\n",
              "  </tbody>\n",
              "</table>\n",
              "</div>\n",
              "      <button class=\"colab-df-convert\" onclick=\"convertToInteractive('df-967b87b9-af67-4ef2-8d48-6f6ce3cf633c')\"\n",
              "              title=\"Convert this dataframe to an interactive table.\"\n",
              "              style=\"display:none;\">\n",
              "        \n",
              "  <svg xmlns=\"http://www.w3.org/2000/svg\" height=\"24px\"viewBox=\"0 0 24 24\"\n",
              "       width=\"24px\">\n",
              "    <path d=\"M0 0h24v24H0V0z\" fill=\"none\"/>\n",
              "    <path d=\"M18.56 5.44l.94 2.06.94-2.06 2.06-.94-2.06-.94-.94-2.06-.94 2.06-2.06.94zm-11 1L8.5 8.5l.94-2.06 2.06-.94-2.06-.94L8.5 2.5l-.94 2.06-2.06.94zm10 10l.94 2.06.94-2.06 2.06-.94-2.06-.94-.94-2.06-.94 2.06-2.06.94z\"/><path d=\"M17.41 7.96l-1.37-1.37c-.4-.4-.92-.59-1.43-.59-.52 0-1.04.2-1.43.59L10.3 9.45l-7.72 7.72c-.78.78-.78 2.05 0 2.83L4 21.41c.39.39.9.59 1.41.59.51 0 1.02-.2 1.41-.59l7.78-7.78 2.81-2.81c.8-.78.8-2.07 0-2.86zM5.41 20L4 18.59l7.72-7.72 1.47 1.35L5.41 20z\"/>\n",
              "  </svg>\n",
              "      </button>\n",
              "      \n",
              "  <style>\n",
              "    .colab-df-container {\n",
              "      display:flex;\n",
              "      flex-wrap:wrap;\n",
              "      gap: 12px;\n",
              "    }\n",
              "\n",
              "    .colab-df-convert {\n",
              "      background-color: #E8F0FE;\n",
              "      border: none;\n",
              "      border-radius: 50%;\n",
              "      cursor: pointer;\n",
              "      display: none;\n",
              "      fill: #1967D2;\n",
              "      height: 32px;\n",
              "      padding: 0 0 0 0;\n",
              "      width: 32px;\n",
              "    }\n",
              "\n",
              "    .colab-df-convert:hover {\n",
              "      background-color: #E2EBFA;\n",
              "      box-shadow: 0px 1px 2px rgba(60, 64, 67, 0.3), 0px 1px 3px 1px rgba(60, 64, 67, 0.15);\n",
              "      fill: #174EA6;\n",
              "    }\n",
              "\n",
              "    [theme=dark] .colab-df-convert {\n",
              "      background-color: #3B4455;\n",
              "      fill: #D2E3FC;\n",
              "    }\n",
              "\n",
              "    [theme=dark] .colab-df-convert:hover {\n",
              "      background-color: #434B5C;\n",
              "      box-shadow: 0px 1px 3px 1px rgba(0, 0, 0, 0.15);\n",
              "      filter: drop-shadow(0px 1px 2px rgba(0, 0, 0, 0.3));\n",
              "      fill: #FFFFFF;\n",
              "    }\n",
              "  </style>\n",
              "\n",
              "      <script>\n",
              "        const buttonEl =\n",
              "          document.querySelector('#df-967b87b9-af67-4ef2-8d48-6f6ce3cf633c button.colab-df-convert');\n",
              "        buttonEl.style.display =\n",
              "          google.colab.kernel.accessAllowed ? 'block' : 'none';\n",
              "\n",
              "        async function convertToInteractive(key) {\n",
              "          const element = document.querySelector('#df-967b87b9-af67-4ef2-8d48-6f6ce3cf633c');\n",
              "          const dataTable =\n",
              "            await google.colab.kernel.invokeFunction('convertToInteractive',\n",
              "                                                     [key], {});\n",
              "          if (!dataTable) return;\n",
              "\n",
              "          const docLinkHtml = 'Like what you see? Visit the ' +\n",
              "            '<a target=\"_blank\" href=https://colab.research.google.com/notebooks/data_table.ipynb>data table notebook</a>'\n",
              "            + ' to learn more about interactive tables.';\n",
              "          element.innerHTML = '';\n",
              "          dataTable['output_type'] = 'display_data';\n",
              "          await google.colab.output.renderOutput(dataTable, element);\n",
              "          const docLink = document.createElement('div');\n",
              "          docLink.innerHTML = docLinkHtml;\n",
              "          element.appendChild(docLink);\n",
              "        }\n",
              "      </script>\n",
              "    </div>\n",
              "  </div>\n",
              "  "
            ]
          },
          "metadata": {},
          "execution_count": 217
        }
      ],
      "source": [
        "data.head()"
      ]
    },
    {
      "cell_type": "code",
      "execution_count": 195,
      "metadata": {
        "id": "2oCa16OdB5NW"
      },
      "outputs": [],
      "source": [
        "if agg_type=='numerical':\n",
        "    cutoff = 0\n",
        "    data['Extraversion'] = np.where(data['Extraversion'] > cutoff,1,0)\n",
        "    data['Agreeableness'] = np.where(data['Agreeableness'] > cutoff,1,0)\n",
        "    data['Conscientiousness'] = np.where(data['Conscientiousness'] > cutoff,1,0)\n",
        "    data['Neuroticism'] = np.where(data['Neuroticism'] > cutoff,1,0)\n",
        "    data['Openness'] = np.where(data['Openness'] > cutoff,1,0)\n"
      ]
    },
    {
      "cell_type": "code",
      "execution_count": 196,
      "metadata": {
        "colab": {
          "base_uri": "https://localhost:8080/",
          "height": 513
        },
        "id": "ywtcBYYhCpEL",
        "outputId": "171b166d-3365-4dd6-b2d8-b328ac1ce043"
      },
      "outputs": [
        {
          "output_type": "execute_result",
          "data": {
            "text/plain": [
              "                  Clip_ID  Extraversion  Agreeableness  Conscientiousness  \\\n",
              "0   cut_feb1601-guest-0-2             1              0                  1   \n",
              "1  cut_feb1601-guest-2-10             1              1                  1   \n",
              "2     cut_feb1601-human-6             1              0                  1   \n",
              "3   cut_feb1602-guest-1-5             1              1                  1   \n",
              "4  cut_feb1602-guest-3-17             1              0                  1   \n",
              "\n",
              "   Neuroticism  Openness  Speaker_ID Gender Status  \\\n",
              "0            1         1          92      M      J   \n",
              "1            0         1         183      M      J   \n",
              "2            0         1          41      M      G   \n",
              "3            0         0           3      M      J   \n",
              "4            1         1         123      M      J   \n",
              "\n",
              "                                            features  \n",
              "0  [[[0.00027620237, 0.0016822875, 0.001016233, 0...  \n",
              "1  [[[0.38929665, 0.1189508, 0.0048722113, 0.0018...  \n",
              "2  [[[0.7792231, 0.29407483, 0.03487174, 0.013430...  \n",
              "3  [[[0.10963277, 0.097696155, 0.021039095, 0.024...  \n",
              "4  [[[0.077622935, 0.14913885, 0.04175023, 0.0176...  "
            ],
            "text/html": [
              "\n",
              "  <div id=\"df-699a65df-b530-486f-aa0d-f9c7060bfd9b\">\n",
              "    <div class=\"colab-df-container\">\n",
              "      <div>\n",
              "<style scoped>\n",
              "    .dataframe tbody tr th:only-of-type {\n",
              "        vertical-align: middle;\n",
              "    }\n",
              "\n",
              "    .dataframe tbody tr th {\n",
              "        vertical-align: top;\n",
              "    }\n",
              "\n",
              "    .dataframe thead th {\n",
              "        text-align: right;\n",
              "    }\n",
              "</style>\n",
              "<table border=\"1\" class=\"dataframe\">\n",
              "  <thead>\n",
              "    <tr style=\"text-align: right;\">\n",
              "      <th></th>\n",
              "      <th>Clip_ID</th>\n",
              "      <th>Extraversion</th>\n",
              "      <th>Agreeableness</th>\n",
              "      <th>Conscientiousness</th>\n",
              "      <th>Neuroticism</th>\n",
              "      <th>Openness</th>\n",
              "      <th>Speaker_ID</th>\n",
              "      <th>Gender</th>\n",
              "      <th>Status</th>\n",
              "      <th>features</th>\n",
              "    </tr>\n",
              "  </thead>\n",
              "  <tbody>\n",
              "    <tr>\n",
              "      <th>0</th>\n",
              "      <td>cut_feb1601-guest-0-2</td>\n",
              "      <td>1</td>\n",
              "      <td>0</td>\n",
              "      <td>1</td>\n",
              "      <td>1</td>\n",
              "      <td>1</td>\n",
              "      <td>92</td>\n",
              "      <td>M</td>\n",
              "      <td>J</td>\n",
              "      <td>[[[0.00027620237, 0.0016822875, 0.001016233, 0...</td>\n",
              "    </tr>\n",
              "    <tr>\n",
              "      <th>1</th>\n",
              "      <td>cut_feb1601-guest-2-10</td>\n",
              "      <td>1</td>\n",
              "      <td>1</td>\n",
              "      <td>1</td>\n",
              "      <td>0</td>\n",
              "      <td>1</td>\n",
              "      <td>183</td>\n",
              "      <td>M</td>\n",
              "      <td>J</td>\n",
              "      <td>[[[0.38929665, 0.1189508, 0.0048722113, 0.0018...</td>\n",
              "    </tr>\n",
              "    <tr>\n",
              "      <th>2</th>\n",
              "      <td>cut_feb1601-human-6</td>\n",
              "      <td>1</td>\n",
              "      <td>0</td>\n",
              "      <td>1</td>\n",
              "      <td>0</td>\n",
              "      <td>1</td>\n",
              "      <td>41</td>\n",
              "      <td>M</td>\n",
              "      <td>G</td>\n",
              "      <td>[[[0.7792231, 0.29407483, 0.03487174, 0.013430...</td>\n",
              "    </tr>\n",
              "    <tr>\n",
              "      <th>3</th>\n",
              "      <td>cut_feb1602-guest-1-5</td>\n",
              "      <td>1</td>\n",
              "      <td>1</td>\n",
              "      <td>1</td>\n",
              "      <td>0</td>\n",
              "      <td>0</td>\n",
              "      <td>3</td>\n",
              "      <td>M</td>\n",
              "      <td>J</td>\n",
              "      <td>[[[0.10963277, 0.097696155, 0.021039095, 0.024...</td>\n",
              "    </tr>\n",
              "    <tr>\n",
              "      <th>4</th>\n",
              "      <td>cut_feb1602-guest-3-17</td>\n",
              "      <td>1</td>\n",
              "      <td>0</td>\n",
              "      <td>1</td>\n",
              "      <td>1</td>\n",
              "      <td>1</td>\n",
              "      <td>123</td>\n",
              "      <td>M</td>\n",
              "      <td>J</td>\n",
              "      <td>[[[0.077622935, 0.14913885, 0.04175023, 0.0176...</td>\n",
              "    </tr>\n",
              "  </tbody>\n",
              "</table>\n",
              "</div>\n",
              "      <button class=\"colab-df-convert\" onclick=\"convertToInteractive('df-699a65df-b530-486f-aa0d-f9c7060bfd9b')\"\n",
              "              title=\"Convert this dataframe to an interactive table.\"\n",
              "              style=\"display:none;\">\n",
              "        \n",
              "  <svg xmlns=\"http://www.w3.org/2000/svg\" height=\"24px\"viewBox=\"0 0 24 24\"\n",
              "       width=\"24px\">\n",
              "    <path d=\"M0 0h24v24H0V0z\" fill=\"none\"/>\n",
              "    <path d=\"M18.56 5.44l.94 2.06.94-2.06 2.06-.94-2.06-.94-.94-2.06-.94 2.06-2.06.94zm-11 1L8.5 8.5l.94-2.06 2.06-.94-2.06-.94L8.5 2.5l-.94 2.06-2.06.94zm10 10l.94 2.06.94-2.06 2.06-.94-2.06-.94-.94-2.06-.94 2.06-2.06.94z\"/><path d=\"M17.41 7.96l-1.37-1.37c-.4-.4-.92-.59-1.43-.59-.52 0-1.04.2-1.43.59L10.3 9.45l-7.72 7.72c-.78.78-.78 2.05 0 2.83L4 21.41c.39.39.9.59 1.41.59.51 0 1.02-.2 1.41-.59l7.78-7.78 2.81-2.81c.8-.78.8-2.07 0-2.86zM5.41 20L4 18.59l7.72-7.72 1.47 1.35L5.41 20z\"/>\n",
              "  </svg>\n",
              "      </button>\n",
              "      \n",
              "  <style>\n",
              "    .colab-df-container {\n",
              "      display:flex;\n",
              "      flex-wrap:wrap;\n",
              "      gap: 12px;\n",
              "    }\n",
              "\n",
              "    .colab-df-convert {\n",
              "      background-color: #E8F0FE;\n",
              "      border: none;\n",
              "      border-radius: 50%;\n",
              "      cursor: pointer;\n",
              "      display: none;\n",
              "      fill: #1967D2;\n",
              "      height: 32px;\n",
              "      padding: 0 0 0 0;\n",
              "      width: 32px;\n",
              "    }\n",
              "\n",
              "    .colab-df-convert:hover {\n",
              "      background-color: #E2EBFA;\n",
              "      box-shadow: 0px 1px 2px rgba(60, 64, 67, 0.3), 0px 1px 3px 1px rgba(60, 64, 67, 0.15);\n",
              "      fill: #174EA6;\n",
              "    }\n",
              "\n",
              "    [theme=dark] .colab-df-convert {\n",
              "      background-color: #3B4455;\n",
              "      fill: #D2E3FC;\n",
              "    }\n",
              "\n",
              "    [theme=dark] .colab-df-convert:hover {\n",
              "      background-color: #434B5C;\n",
              "      box-shadow: 0px 1px 3px 1px rgba(0, 0, 0, 0.15);\n",
              "      filter: drop-shadow(0px 1px 2px rgba(0, 0, 0, 0.3));\n",
              "      fill: #FFFFFF;\n",
              "    }\n",
              "  </style>\n",
              "\n",
              "      <script>\n",
              "        const buttonEl =\n",
              "          document.querySelector('#df-699a65df-b530-486f-aa0d-f9c7060bfd9b button.colab-df-convert');\n",
              "        buttonEl.style.display =\n",
              "          google.colab.kernel.accessAllowed ? 'block' : 'none';\n",
              "\n",
              "        async function convertToInteractive(key) {\n",
              "          const element = document.querySelector('#df-699a65df-b530-486f-aa0d-f9c7060bfd9b');\n",
              "          const dataTable =\n",
              "            await google.colab.kernel.invokeFunction('convertToInteractive',\n",
              "                                                     [key], {});\n",
              "          if (!dataTable) return;\n",
              "\n",
              "          const docLinkHtml = 'Like what you see? Visit the ' +\n",
              "            '<a target=\"_blank\" href=https://colab.research.google.com/notebooks/data_table.ipynb>data table notebook</a>'\n",
              "            + ' to learn more about interactive tables.';\n",
              "          element.innerHTML = '';\n",
              "          dataTable['output_type'] = 'display_data';\n",
              "          await google.colab.output.renderOutput(dataTable, element);\n",
              "          const docLink = document.createElement('div');\n",
              "          docLink.innerHTML = docLinkHtml;\n",
              "          element.appendChild(docLink);\n",
              "        }\n",
              "      </script>\n",
              "    </div>\n",
              "  </div>\n",
              "  "
            ]
          },
          "metadata": {},
          "execution_count": 196
        }
      ],
      "source": [
        "data.head()"
      ]
    },
    {
      "cell_type": "code",
      "execution_count": 197,
      "metadata": {
        "id": "LZThHOsWJUrG"
      },
      "outputs": [],
      "source": [
        "#Split dataframe into train, validation, and test sets\n",
        "train, val, test = np.split(data.sample(frac=1, random_state=101),\n",
        "[int(.7*len(data)), int(.85*len(data))])"
      ]
    },
    {
      "cell_type": "code",
      "execution_count": 198,
      "metadata": {
        "colab": {
          "base_uri": "https://localhost:8080/"
        },
        "id": "vuYUE9ZnJUrH",
        "outputId": "989619b0-76a1-4722-da02-25ba74e2f3e1"
      },
      "outputs": [
        {
          "output_type": "execute_result",
          "data": {
            "text/plain": [
              "numpy.ndarray"
            ]
          },
          "metadata": {},
          "execution_count": 198
        }
      ],
      "source": [
        "type(data['features'].iloc[0])"
      ]
    },
    {
      "cell_type": "code",
      "execution_count": 199,
      "metadata": {
        "colab": {
          "base_uri": "https://localhost:8080/"
        },
        "id": "e6Dzck6kJUrI",
        "outputId": "4e3cf5a7-05de-457a-910e-d808496c21f3"
      },
      "outputs": [
        {
          "output_type": "execute_result",
          "data": {
            "text/plain": [
              "(5, 128, 862)"
            ]
          },
          "metadata": {},
          "execution_count": 199
        }
      ],
      "source": [
        "train['features'].iloc[5].shape"
      ]
    },
    {
      "cell_type": "code",
      "execution_count": 200,
      "metadata": {
        "id": "ulTapFcEJUrJ"
      },
      "outputs": [],
      "source": [
        "class LibriSamples(torch.utils.data.Dataset):\n",
        "    #Partition: the dataframe\n",
        "    def __init__(self, dataframe, test_order=None, trait=None):\n",
        "        #self.train=train\n",
        "\n",
        "        #The personality trait for this run through\n",
        "        self.trait = trait\n",
        "        self.dataframe = dataframe\n",
        "        #self.partition = partition\n",
        "\n",
        "    def __len__(self):\n",
        "        return len(self.dataframe.index)\n",
        "    \n",
        "\n",
        "    def __getitem__(self, ind):\n",
        "        #X = np.load(self.dataframe['features'].iloc[ind])\n",
        "        X = self.dataframe['features'].iloc[ind]\n",
        "        \n",
        "        \"\"\"\n",
        "        \n",
        "        print(len(X))\n",
        "        print(X[0].shape)\n",
        "        print(X[1].shape)\n",
        "        print(X[2].shape)\n",
        "        print(X[3].shape)\n",
        "        print(X[4].shape)\n",
        "        \n",
        "        t1 = [X[0], X[1]]\n",
        "\n",
        "        X_trial = np.array(t1)\n",
        "        \n",
        "        print(f\"trail check: {X_trial}\")\n",
        "        print(X_trial.shape)\n",
        "        \n",
        "        \"\"\"\n",
        "        \n",
        "        X_arr = np.array(X)\n",
        "        #print(X_arr.shape)\n",
        "        X = torch.Tensor(X_arr)\n",
        "        #X.reshape((1, X.shape[0], X.shape[1]))\n",
        "        #print(X.shape)\n",
        "        #Must transpose X so the the first value is length of audio and second value is number of features\n",
        "        X = X.T # Already a tensor. if not X=torch.Tensor(X)\n",
        "        X = torch.Tensor(X)\n",
        "        #X = X.unsqueeze(0) # I am expecting it to be of shape (1, T, 128) # JUST CHECK if it (1, T, 128) or (1, 128, T)\n",
        "        #X = torch.transpose(X,1,2)\n",
        "        #if self.train:\n",
        "        #Y = np.array(self.dataframe[self.trait].iloc[ind])\n",
        "        Y = torch.from_numpy(np.array([self.dataframe[self.trait].iloc[ind]])).type(torch.Tensor)\n",
        "        #if self.train:\n",
        "        return X, Y\n",
        "        #else:\n",
        "        #return X\n",
        "\n",
        "\n",
        "    def collate_fn(batch):\n",
        "        batch_x = [x[1::] for x,y in batch]\n",
        "        batch_y = [y for x,y in batch]\n",
        "\n",
        "        batch_x_pad = pad_sequence(batch_x, batch_first=True) # batch_size, 1, T(max time dimension in the batch), 128\n",
        "\n",
        "        lengths_x = [x.shape[0] for x in batch_x]\n",
        "\n",
        "        #The y's should only have a length of 1, but we'll pad it anyway\n",
        "\n",
        "        batch_y_pad = pad_sequence(batch_y, batch_first=True)\n",
        "        #lengths_y = [y.shape[0] for y in batch_y]\n",
        "        lengths_y = [y.shape[0] for y in batch_y]\n",
        "\n",
        "        return batch_x_pad, batch_y_pad, torch.Tensor(lengths_x), torch.Tensor(lengths_y)\n"
      ]
    },
    {
      "cell_type": "code",
      "execution_count": 201,
      "metadata": {
        "id": "5rcfrzotJUrL"
      },
      "outputs": [],
      "source": [
        "train_data = LibriSamples(train, trait=feature)\n",
        "val_data = LibriSamples(val, trait=feature)\n",
        "test_data = LibriSamples(test, trait=feature)"
      ]
    },
    {
      "cell_type": "code",
      "execution_count": 202,
      "metadata": {
        "colab": {
          "base_uri": "https://localhost:8080/"
        },
        "id": "P_erAmE_7AI2",
        "outputId": "8310c6f5-bfdc-4381-d7a3-5616a5ff998f"
      },
      "outputs": [
        {
          "output_type": "stream",
          "name": "stdout",
          "text": [
            "448\n"
          ]
        }
      ],
      "source": [
        "print(len(train_data))"
      ]
    },
    {
      "cell_type": "code",
      "execution_count": 203,
      "metadata": {
        "colab": {
          "base_uri": "https://localhost:8080/"
        },
        "id": "4kzo7NwnJUrM",
        "outputId": "6fd4c8aa-7567-4155-9270-74f812ac9882"
      },
      "outputs": [
        {
          "output_type": "stream",
          "name": "stdout",
          "text": [
            "Batch size:  16\n",
            "Train dataset samples = 448, batches = 28\n",
            "Val dataset samples = 96, batches = 6\n",
            "Test dataset samples = 96, batches = 6\n"
          ]
        }
      ],
      "source": [
        "train_loader = torch.utils.data.DataLoader(train_data, batch_size = batch_size, shuffle=True, collate_fn = LibriSamples.collate_fn)\n",
        "val_loader = torch.utils.data.DataLoader(val_data, batch_size = batch_size, shuffle=False, collate_fn = LibriSamples.collate_fn) \n",
        "test_loader = torch.utils.data.DataLoader(test_data, batch_size = batch_size, shuffle=False, collate_fn = LibriSamples.collate_fn) \n",
        "\n",
        "print(\"Batch size: \", batch_size)\n",
        "print(\"Train dataset samples = {}, batches = {}\".format(train_data.__len__(), len(train_loader)))\n",
        "print(\"Val dataset samples = {}, batches = {}\".format(val_data.__len__(), len(val_loader)))\n",
        "print(\"Test dataset samples = {}, batches = {}\".format(test_data.__len__(), len(test_loader)))"
      ]
    },
    {
      "cell_type": "code",
      "execution_count": 204,
      "metadata": {
        "colab": {
          "base_uri": "https://localhost:8080/"
        },
        "id": "ZKjTJYR4JUrN",
        "outputId": "f59b2111-0d0a-4a9a-e4d1-5d0e15cc17df",
        "scrolled": true
      },
      "outputs": [
        {
          "output_type": "stream",
          "name": "stdout",
          "text": [
            "torch.Size([16, 861, 128, 5]) torch.Size([16, 1]) torch.Size([16]) torch.Size([16])\n",
            "torch.Size([16, 861, 128, 5]) torch.Size([16, 1]) torch.Size([16]) torch.Size([16])\n"
          ]
        }
      ],
      "source": [
        "for data in val_loader:\n",
        "    x, y, lx, ly = data\n",
        "    print(x.shape, y.shape, lx.shape, ly.shape)\n",
        "    break\n",
        "\n",
        "for data in test_loader:\n",
        "    x,y,lx,ly = data\n",
        "    print(x.shape, y.shape, lx.shape, ly.shape)\n",
        "    break"
      ]
    },
    {
      "cell_type": "code",
      "execution_count": 205,
      "metadata": {
        "id": "SzMPOSqGJUrO"
      },
      "outputs": [],
      "source": [
        "import pdb"
      ]
    },
    {
      "cell_type": "code",
      "execution_count": 206,
      "metadata": {
        "id": "lyS2o68JJUrP"
      },
      "outputs": [],
      "source": [
        "class Network(nn.Module):\n",
        "\n",
        "    def __init__(self): # You can add any extra arguments as you wish\n",
        "\n",
        "        super(Network, self).__init__()\n",
        "        \n",
        "        self.lstm = nn.LSTM(input_size=256, hidden_size = 256, num_layers=4, dropout=.1, bidirectional=True, batch_first=True)\n",
        "        self.cnn = nn.Sequential(\n",
        "            nn.Conv2d(in_channels=5, out_channels=128, kernel_size=3, stride=1, padding=1), # ADDED THIS \n",
        "            nn.BatchNorm2d(128),\n",
        "            nn.GELU()\n",
        "        )\n",
        "        # YOU CAN ADD MORE CNN LAYERS HERE \n",
        "        self.classification = nn.Sequential(nn.AdaptiveAvgPool2d((1,1)),\n",
        "                                            nn.Flatten(),\n",
        "                                            nn.Linear(128,1))\n",
        "        # self.classification_1 = nn.Sequential(\n",
        "        #     nn.Linear(in_features=512, out_features=1024),\n",
        "        #     nn.Linear(in_features=1024, out_features=256),\n",
        "        #     nn.Linear(in_features=256, out_features=1)\n",
        "        # )\n",
        "\n",
        "        # self.classification_2 = nn.Sequential(\n",
        "        #     nn.Linear(in_features=430, out_features=1)\n",
        "        # )\n",
        "            \n",
        "\n",
        "    def forward(self, x): \n",
        "        # print(\"forward1\", x.shape)\n",
        "        # out = torch.transpose(x, 1, 2) # B, T, 128 -> B, 128, T\n",
        "        # print(\"forward2\", out.shape)\n",
        "        # out = self.cnn(out)\n",
        "        # print(\"forward3\", out.shape)\n",
        "        # out = torch.transpose(out, 1, 2) # B, T, 256\n",
        "        # print(\"forward4\", out.shape)\n",
        "        \n",
        "        # packed_input = pack_padded_sequence(out, x_lengths, enforce_sorted=False, batch_first=True)\n",
        "        # print(\"forward5\")\n",
        "        # out, (_, _) = self.lstm(packed_input)\n",
        "        # print(\"forward6\")\n",
        "        # out, lengths  = pad_packed_sequence(out, batch_first=True)\n",
        "        # print(out.shape)\n",
        "\n",
        "        # out = self.classification_1(out)\n",
        "        # out = torch.squeeze(out)\n",
        "        # print(out.shape)\n",
        "        # out = self.classification_2(out)\n",
        "\n",
        "###############################################################################################################\n",
        "\n",
        "        # X shape is batch_size, 1, T(max time dimension in the batch), 128\n",
        "\n",
        "        # packed_input = pack_padded_sequence(x,x_length, batch_first = True, enforce_sorted=False)\n",
        "\n",
        "        \n",
        "        #packed_input = pack_padded_sequence(x,length.clamp(max=max_expected_len), batch_first = True, enforce_sorted=False)\n",
        "        #pdb.set_trace()\n",
        "        # out1, (out2, out3) =  self.lstm(packed_input) \n",
        "        \n",
        "        x = x.transpose(1, 3)\n",
        "        \n",
        "        #print(f\"x shape: {x.shape}\")\n",
        "        \n",
        "        \n",
        "        \n",
        "        out = self.cnn(x) # batch_size, 64, T_reduced, 128_reduced\n",
        "        # DO AVERAGE POOLING, WE EXPECT IS OF THE SHAPE (batchsize, feature_dim)\n",
        "\n",
        "        # As you may see from the LSTM docs, LSTM returns 3 vectors. Which one do you need to pass to the next function?\n",
        "        # out, lengths  = pad_packed_sequence(out1, batch_first=True) \n",
        "        #pdb.set_trace()\n",
        "        #pdb.set_trace()\n",
        "        out = self.classification(out)  # classification (feature_dim, num_classes) (2)\n",
        "        \n",
        "        #Is dimension 2 or 3? Or something else?\n",
        "   \n",
        "        # m = nn.LogSoftmax(dim=1) # Optional: Do log softmax on the output. Which dimension?\n",
        "        #out = F.log_softmax(out,dim=1) # CHANGED THE DIM to 1\n",
        "        out = torch.sigmoid(out)\n",
        "        return out #lengths \n",
        "\n",
        "#model = Network().to(device)"
      ]
    },
    {
      "cell_type": "code",
      "execution_count": 207,
      "metadata": {
        "colab": {
          "base_uri": "https://localhost:8080/"
        },
        "id": "AtKarinSJUrP",
        "outputId": "5d4c3d12-87f7-481b-b050-5a277b6aa796"
      },
      "outputs": [
        {
          "output_type": "stream",
          "name": "stdout",
          "text": [
            "Network(\n",
            "  (lstm): LSTM(256, 256, num_layers=4, batch_first=True, dropout=0.1, bidirectional=True)\n",
            "  (cnn): Sequential(\n",
            "    (0): Conv2d(5, 128, kernel_size=(3, 3), stride=(1, 1), padding=(1, 1))\n",
            "    (1): BatchNorm2d(128, eps=1e-05, momentum=0.1, affine=True, track_running_stats=True)\n",
            "    (2): GELU()\n",
            "  )\n",
            "  (classification): Sequential(\n",
            "    (0): AdaptiveAvgPool2d(output_size=(1, 1))\n",
            "    (1): Flatten(start_dim=1, end_dim=-1)\n",
            "    (2): Linear(in_features=128, out_features=1, bias=True)\n",
            "  )\n",
            ")\n"
          ]
        }
      ],
      "source": [
        "device = 'cuda' if torch.cuda.is_available() else 'cpu'\n",
        "\n",
        "model = Network().to(device)\n",
        "print(model)"
      ]
    },
    {
      "cell_type": "code",
      "execution_count": 208,
      "metadata": {
        "id": "Eo0qpBACJUrQ"
      },
      "outputs": [],
      "source": [
        "#criterion = nn.CrossEntropyLoss()\n",
        "criterion = nn.BCELoss()\n",
        "#criterion = nn.BCEWithLogitsLoss()\n",
        "optimizer = torch.optim.Adam(model.parameters(), lr = .002)\n",
        "#scaler = torch.cuda.amp.GradScaler()\n"
      ]
    },
    {
      "cell_type": "code",
      "execution_count": 209,
      "metadata": {
        "id": "Z3u8kPB464t3"
      },
      "outputs": [],
      "source": [
        "epochs=40\n"
      ]
    },
    {
      "cell_type": "code",
      "source": [
        "import torch\n",
        "torch.cuda.empty_cache()\n"
      ],
      "metadata": {
        "id": "qc93k9EnP1Tv"
      },
      "execution_count": 210,
      "outputs": []
    },
    {
      "cell_type": "code",
      "execution_count": 211,
      "metadata": {
        "colab": {
          "base_uri": "https://localhost:8080/"
        },
        "id": "E-UpMGmcJUrQ",
        "outputId": "273cc472-8378-49f2-b69c-3d9d2d783fb8",
        "scrolled": false
      },
      "outputs": [
        {
          "output_type": "stream",
          "name": "stdout",
          "text": [
            "train_loader:  28\n"
          ]
        },
        {
          "output_type": "stream",
          "name": "stderr",
          "text": [
            ""
          ]
        },
        {
          "output_type": "stream",
          "name": "stdout",
          "text": [
            "Epoch 1/40: Train Acc 58.0357%, Train Loss 0.6776, Learning Rate 0.0020, Val Acc 70.8333%\n"
          ]
        },
        {
          "output_type": "stream",
          "name": "stderr",
          "text": [
            ""
          ]
        },
        {
          "output_type": "stream",
          "name": "stdout",
          "text": [
            "Epoch 2/40: Train Acc 62.2768%, Train Loss 0.6612, Learning Rate 0.0020, Val Acc 70.8333%\n"
          ]
        },
        {
          "output_type": "stream",
          "name": "stderr",
          "text": [
            ""
          ]
        },
        {
          "output_type": "stream",
          "name": "stdout",
          "text": [
            "Epoch 3/40: Train Acc 62.2768%, Train Loss 0.6601, Learning Rate 0.0020, Val Acc 70.8333%\n"
          ]
        },
        {
          "output_type": "stream",
          "name": "stderr",
          "text": [
            ""
          ]
        },
        {
          "output_type": "stream",
          "name": "stdout",
          "text": [
            "Epoch 4/40: Train Acc 62.2768%, Train Loss 0.6602, Learning Rate 0.0020, Val Acc 70.8333%\n"
          ]
        },
        {
          "output_type": "stream",
          "name": "stderr",
          "text": [
            ""
          ]
        },
        {
          "output_type": "stream",
          "name": "stdout",
          "text": [
            "Epoch 5/40: Train Acc 62.2768%, Train Loss 0.6595, Learning Rate 0.0020, Val Acc 70.8333%\n"
          ]
        },
        {
          "output_type": "stream",
          "name": "stderr",
          "text": [
            ""
          ]
        },
        {
          "output_type": "stream",
          "name": "stdout",
          "text": [
            "Epoch 6/40: Train Acc 62.2768%, Train Loss 0.6595, Learning Rate 0.0020, Val Acc 70.8333%\n"
          ]
        },
        {
          "output_type": "stream",
          "name": "stderr",
          "text": [
            ""
          ]
        },
        {
          "output_type": "stream",
          "name": "stdout",
          "text": [
            "Epoch 7/40: Train Acc 62.2768%, Train Loss 0.6621, Learning Rate 0.0020, Val Acc 70.8333%\n"
          ]
        },
        {
          "output_type": "stream",
          "name": "stderr",
          "text": [
            ""
          ]
        },
        {
          "output_type": "stream",
          "name": "stdout",
          "text": [
            "Epoch 8/40: Train Acc 62.2768%, Train Loss 0.6606, Learning Rate 0.0020, Val Acc 70.8333%\n"
          ]
        },
        {
          "output_type": "stream",
          "name": "stderr",
          "text": [
            ""
          ]
        },
        {
          "output_type": "stream",
          "name": "stdout",
          "text": [
            "Epoch 9/40: Train Acc 62.2768%, Train Loss 0.6577, Learning Rate 0.0020, Val Acc 70.8333%\n"
          ]
        },
        {
          "output_type": "stream",
          "name": "stderr",
          "text": [
            ""
          ]
        },
        {
          "output_type": "stream",
          "name": "stdout",
          "text": [
            "Epoch 10/40: Train Acc 62.2768%, Train Loss 0.6618, Learning Rate 0.0020, Val Acc 70.8333%\n"
          ]
        },
        {
          "output_type": "stream",
          "name": "stderr",
          "text": [
            ""
          ]
        },
        {
          "output_type": "stream",
          "name": "stdout",
          "text": [
            "Epoch 11/40: Train Acc 62.2768%, Train Loss 0.6602, Learning Rate 0.0020, Val Acc 70.8333%\n"
          ]
        },
        {
          "output_type": "stream",
          "name": "stderr",
          "text": [
            ""
          ]
        },
        {
          "output_type": "stream",
          "name": "stdout",
          "text": [
            "Epoch 12/40: Train Acc 62.2768%, Train Loss 0.6595, Learning Rate 0.0020, Val Acc 70.8333%\n"
          ]
        },
        {
          "output_type": "stream",
          "name": "stderr",
          "text": [
            ""
          ]
        },
        {
          "output_type": "stream",
          "name": "stdout",
          "text": [
            "Epoch 13/40: Train Acc 62.2768%, Train Loss 0.6591, Learning Rate 0.0020, Val Acc 70.8333%\n"
          ]
        },
        {
          "output_type": "stream",
          "name": "stderr",
          "text": [
            ""
          ]
        },
        {
          "output_type": "stream",
          "name": "stdout",
          "text": [
            "Epoch 14/40: Train Acc 62.2768%, Train Loss 0.6600, Learning Rate 0.0020, Val Acc 70.8333%\n"
          ]
        },
        {
          "output_type": "stream",
          "name": "stderr",
          "text": [
            ""
          ]
        },
        {
          "output_type": "stream",
          "name": "stdout",
          "text": [
            "Epoch 15/40: Train Acc 62.2768%, Train Loss 0.6597, Learning Rate 0.0020, Val Acc 70.8333%\n"
          ]
        },
        {
          "output_type": "stream",
          "name": "stderr",
          "text": [
            ""
          ]
        },
        {
          "output_type": "stream",
          "name": "stdout",
          "text": [
            "Epoch 16/40: Train Acc 62.2768%, Train Loss 0.6594, Learning Rate 0.0020, Val Acc 70.8333%\n"
          ]
        },
        {
          "output_type": "stream",
          "name": "stderr",
          "text": [
            ""
          ]
        },
        {
          "output_type": "stream",
          "name": "stdout",
          "text": [
            "Epoch 17/40: Train Acc 62.2768%, Train Loss 0.6619, Learning Rate 0.0020, Val Acc 70.8333%\n"
          ]
        },
        {
          "output_type": "stream",
          "name": "stderr",
          "text": [
            ""
          ]
        },
        {
          "output_type": "stream",
          "name": "stdout",
          "text": [
            "Epoch 18/40: Train Acc 62.2768%, Train Loss 0.6589, Learning Rate 0.0020, Val Acc 70.8333%\n"
          ]
        },
        {
          "output_type": "stream",
          "name": "stderr",
          "text": [
            ""
          ]
        },
        {
          "output_type": "stream",
          "name": "stdout",
          "text": [
            "Epoch 19/40: Train Acc 62.2768%, Train Loss 0.6576, Learning Rate 0.0020, Val Acc 70.8333%\n"
          ]
        },
        {
          "output_type": "stream",
          "name": "stderr",
          "text": [
            ""
          ]
        },
        {
          "output_type": "stream",
          "name": "stdout",
          "text": [
            "Epoch 20/40: Train Acc 62.2768%, Train Loss 0.6583, Learning Rate 0.0020, Val Acc 70.8333%\n"
          ]
        },
        {
          "output_type": "stream",
          "name": "stderr",
          "text": [
            ""
          ]
        },
        {
          "output_type": "stream",
          "name": "stdout",
          "text": [
            "Epoch 21/40: Train Acc 62.2768%, Train Loss 0.6577, Learning Rate 0.0020, Val Acc 70.8333%\n"
          ]
        },
        {
          "output_type": "stream",
          "name": "stderr",
          "text": [
            ""
          ]
        },
        {
          "output_type": "stream",
          "name": "stdout",
          "text": [
            "Epoch 22/40: Train Acc 62.2768%, Train Loss 0.6576, Learning Rate 0.0020, Val Acc 70.8333%\n"
          ]
        },
        {
          "output_type": "stream",
          "name": "stderr",
          "text": [
            ""
          ]
        },
        {
          "output_type": "stream",
          "name": "stdout",
          "text": [
            "Epoch 23/40: Train Acc 62.2768%, Train Loss 0.6585, Learning Rate 0.0020, Val Acc 70.8333%\n"
          ]
        },
        {
          "output_type": "stream",
          "name": "stderr",
          "text": [
            ""
          ]
        },
        {
          "output_type": "stream",
          "name": "stdout",
          "text": [
            "Epoch 24/40: Train Acc 62.2768%, Train Loss 0.6563, Learning Rate 0.0020, Val Acc 70.8333%\n"
          ]
        },
        {
          "output_type": "stream",
          "name": "stderr",
          "text": [
            ""
          ]
        },
        {
          "output_type": "stream",
          "name": "stdout",
          "text": [
            "Epoch 25/40: Train Acc 62.2768%, Train Loss 0.6560, Learning Rate 0.0020, Val Acc 70.8333%\n"
          ]
        },
        {
          "output_type": "stream",
          "name": "stderr",
          "text": [
            ""
          ]
        },
        {
          "output_type": "stream",
          "name": "stdout",
          "text": [
            "Epoch 26/40: Train Acc 62.2768%, Train Loss 0.6573, Learning Rate 0.0020, Val Acc 70.8333%\n"
          ]
        },
        {
          "output_type": "stream",
          "name": "stderr",
          "text": [
            ""
          ]
        },
        {
          "output_type": "stream",
          "name": "stdout",
          "text": [
            "Epoch 27/40: Train Acc 62.2768%, Train Loss 0.6584, Learning Rate 0.0020, Val Acc 70.8333%\n"
          ]
        },
        {
          "output_type": "stream",
          "name": "stderr",
          "text": [
            ""
          ]
        },
        {
          "output_type": "stream",
          "name": "stdout",
          "text": [
            "Epoch 28/40: Train Acc 62.2768%, Train Loss 0.6582, Learning Rate 0.0020, Val Acc 70.8333%\n"
          ]
        },
        {
          "output_type": "stream",
          "name": "stderr",
          "text": [
            ""
          ]
        },
        {
          "output_type": "stream",
          "name": "stdout",
          "text": [
            "Epoch 29/40: Train Acc 62.2768%, Train Loss 0.6600, Learning Rate 0.0020, Val Acc 70.8333%\n"
          ]
        },
        {
          "output_type": "stream",
          "name": "stderr",
          "text": [
            ""
          ]
        },
        {
          "output_type": "stream",
          "name": "stdout",
          "text": [
            "Epoch 30/40: Train Acc 62.2768%, Train Loss 0.6603, Learning Rate 0.0020, Val Acc 70.8333%\n"
          ]
        },
        {
          "output_type": "stream",
          "name": "stderr",
          "text": [
            ""
          ]
        },
        {
          "output_type": "stream",
          "name": "stdout",
          "text": [
            "Epoch 31/40: Train Acc 62.2768%, Train Loss 0.6580, Learning Rate 0.0020, Val Acc 70.8333%\n"
          ]
        },
        {
          "output_type": "stream",
          "name": "stderr",
          "text": [
            ""
          ]
        },
        {
          "output_type": "stream",
          "name": "stdout",
          "text": [
            "Epoch 32/40: Train Acc 62.2768%, Train Loss 0.6562, Learning Rate 0.0020, Val Acc 70.8333%\n"
          ]
        },
        {
          "output_type": "stream",
          "name": "stderr",
          "text": [
            ""
          ]
        },
        {
          "output_type": "stream",
          "name": "stdout",
          "text": [
            "Epoch 33/40: Train Acc 62.2768%, Train Loss 0.6566, Learning Rate 0.0020, Val Acc 70.8333%\n"
          ]
        },
        {
          "output_type": "stream",
          "name": "stderr",
          "text": [
            ""
          ]
        },
        {
          "output_type": "stream",
          "name": "stdout",
          "text": [
            "Epoch 34/40: Train Acc 62.2768%, Train Loss 0.6560, Learning Rate 0.0020, Val Acc 70.8333%\n"
          ]
        },
        {
          "output_type": "stream",
          "name": "stderr",
          "text": [
            ""
          ]
        },
        {
          "output_type": "stream",
          "name": "stdout",
          "text": [
            "Epoch 35/40: Train Acc 62.2768%, Train Loss 0.6574, Learning Rate 0.0020, Val Acc 70.8333%\n"
          ]
        },
        {
          "output_type": "stream",
          "name": "stderr",
          "text": [
            ""
          ]
        },
        {
          "output_type": "stream",
          "name": "stdout",
          "text": [
            "Epoch 36/40: Train Acc 62.2768%, Train Loss 0.6570, Learning Rate 0.0020, Val Acc 70.8333%\n"
          ]
        },
        {
          "output_type": "stream",
          "name": "stderr",
          "text": [
            ""
          ]
        },
        {
          "output_type": "stream",
          "name": "stdout",
          "text": [
            "Epoch 37/40: Train Acc 62.2768%, Train Loss 0.6563, Learning Rate 0.0020, Val Acc 70.8333%\n"
          ]
        },
        {
          "output_type": "stream",
          "name": "stderr",
          "text": [
            ""
          ]
        },
        {
          "output_type": "stream",
          "name": "stdout",
          "text": [
            "Epoch 38/40: Train Acc 62.2768%, Train Loss 0.6569, Learning Rate 0.0020, Val Acc 70.8333%\n"
          ]
        },
        {
          "output_type": "stream",
          "name": "stderr",
          "text": [
            ""
          ]
        },
        {
          "output_type": "stream",
          "name": "stdout",
          "text": [
            "Epoch 39/40: Train Acc 62.2768%, Train Loss 0.6563, Learning Rate 0.0020, Val Acc 70.8333%\n"
          ]
        },
        {
          "output_type": "stream",
          "name": "stderr",
          "text": [
            ""
          ]
        },
        {
          "output_type": "stream",
          "name": "stdout",
          "text": [
            "Epoch 40/40: Train Acc 62.2768%, Train Loss 0.6534, Learning Rate 0.0020, Val Acc 70.8333%\n"
          ]
        }
      ],
      "source": [
        "train_acc_list = list()\n",
        "train_loss_list = list()\n",
        "lr_list = list()\n",
        "validation_acc_list = list()\n",
        "\n",
        "print('train_loader: ', len(train_loader))\n",
        "\n",
        "for epoch in range(epochs):\n",
        "\n",
        "    batch_bar = tqdm(total=len(train_loader), dynamic_ncols=True, leave=False, position=0, desc='Train') \n",
        "    model.train()\n",
        "    total_loss = 0\n",
        "    num_correct=0\n",
        "\n",
        "    for i, data in enumerate(train_loader,0):\n",
        "        \n",
        "             \n",
        "\n",
        "        x = data[0].to(device)\n",
        "        x = x.unsqueeze(1)\n",
        "        y = data[1].to(device)\n",
        "        #print('y: ', y)\n",
        "        # x_lengths = data[2]\n",
        "        \n",
        "        x = torch.squeeze(x)\n",
        "\n",
        "        \n",
        "        output=model(x)\n",
        "        #print('output: ', output)\n",
        "        #print('y: ,', y)\n",
        "\n",
        "        # y = y.type(torch.FloatTensor).to(device)\n",
        "        loss = criterion(output, y)\n",
        "        optimizer.zero_grad() \n",
        "        loss.backward()\n",
        "        optimizer.step()\n",
        "        \n",
        "\n",
        "        prediction_out = (output>0.5).float()\n",
        "\n",
        "        \"\"\"\n",
        "        print(f\"output: {output}\")\n",
        "        print(f\"prediction_out: {prediction_out}\")\n",
        "        print(f\"y: {y} \\tprediction_out==y: {prediction_out==y}\")\n",
        "        \"\"\"\n",
        "        \n",
        "        num_correct += int((prediction_out==y).sum())\n",
        "        total_loss += loss\n",
        "        batch_bar.set_postfix(\n",
        "          loss=\"{:.04f}\".format(float(total_loss/(i+1)))\n",
        "        )\n",
        "\n",
        "        #scaler.scale(loss).backward()\n",
        "        #scaler.step(optimizer)\n",
        "        #scaler.update()\n",
        "    \n",
        "\n",
        "        batch_bar.update()\n",
        "\n",
        "    #print('training num correct: ,', num_correct)\n",
        "\n",
        "    batch_bar.close()\n",
        "    val_num_correct = 0\n",
        "    for i, data in enumerate(val_loader):\n",
        "        optimizer.zero_grad()\n",
        "        x = data[0].to(device)\n",
        "        x = x.unsqueeze(1)\n",
        "        y = data[1].to(device)\n",
        "        \n",
        "        x = torch.squeeze(x)\n",
        "        \n",
        "        #with torch.cuda.amp.autocast():\n",
        "        val_outputs = model(x)\n",
        "        \n",
        "        prediction_val = (val_outputs>0.5).float()\n",
        "        val_num_correct += int((prediction_val==y).sum())\n",
        "        #val_num_correct += int((torch.argmax(val_outputs,axis=0)==y).sum())\n",
        "        \n",
        "        \"\"\"\n",
        "        print(f\"val_outputs: {val_outputs}\")\n",
        "        print(f\"prediction_val: {prediction_val}\")\n",
        "        print(f\"y: {y} \\tprediction_val==y: {prediction_val==y}\")\n",
        "        \"\"\"\n",
        "        \n",
        "    train_acc = 100 * num_correct / (len(train_loader) * batch_size)\n",
        "    train_loss = float(total_loss / len(train_loader))\n",
        "    lr = float(optimizer.param_groups[0]['lr'])\n",
        "    validation_acc = 100 * val_num_correct / (len(val_loader)*batch_size)\n",
        "\n",
        "\n",
        "    train_acc_list.append(train_acc)\n",
        "    train_loss_list.append(train_loss)\n",
        "    lr_list.append(lr)\n",
        "    validation_acc_list.append(validation_acc)\n",
        "\n",
        "\n",
        "    print(\"Epoch {}/{}: Train Acc {:.04f}%, Train Loss {:.04f}, Learning Rate {:.04f}, Val Acc {:.04f}%\".format(\n",
        "        epoch + 1,\n",
        "        epochs,\n",
        "        100 * num_correct / (len(train_loader) * batch_size),\n",
        "        float(total_loss / len(train_loader)),\n",
        "        float(optimizer.param_groups[0]['lr']),\n",
        "        100 * val_num_correct / (len(val_loader)*batch_size)))\n",
        "\n",
        "    \n",
        "    #print(train_acc_list, validation_acc_list, train_loss_list, lr_list)"
      ]
    },
    {
      "cell_type": "code",
      "execution_count": 212,
      "metadata": {
        "id": "wgnLhWJFM6H_"
      },
      "outputs": [],
      "source": [
        "train_acc_arr = np.array(train_acc_list)\n",
        "val_acc_arr = np.array(validation_acc_list)\n",
        "train_loss_arr = np.array(train_loss_list)\n",
        "lr_arr = np.array(lr_list)\n",
        "\n",
        "results_df = pd.DataFrame({'epoch_number': np.arange(40),\n",
        "                      'train_accuracy': train_acc_arr,\n",
        "                      'validation_accuracy': val_acc_arr,\n",
        "                      'train_loss': train_loss_arr,\n",
        "                      'learning_rate': lr_arr})\n",
        "\n",
        "results_df.to_csv(str(feature) + '_results.csv', index=False)"
      ]
    },
    {
      "cell_type": "code",
      "source": [
        "#To import the results from a local csv file of previous run\n",
        "\n",
        "Extraversion_results_df = pd.read_csv(\"Extraversion_results.csv\", header = 0)\n",
        "\n",
        "Agreeableness_results_df = pd.read_csv(\"Agreeableness_results.csv\", header = 0)\n",
        "\n",
        "Conscientiousness_results_df = pd.read_csv(\"Conscientiousness_results.csv\", header = 0)\n",
        "\n",
        "Neuroticism_results_df = pd.read_csv(\"Neuroticism_results.csv\", header = 0)\n",
        "\n",
        "Openness_results_df = pd.read_csv(\"Openness_results.csv\", header = 0)\n"
      ],
      "metadata": {
        "id": "xKz4A-aUS5kR"
      },
      "execution_count": 213,
      "outputs": []
    },
    {
      "cell_type": "code",
      "execution_count": 215,
      "metadata": {
        "scrolled": true,
        "colab": {
          "base_uri": "https://localhost:8080/",
          "height": 1000
        },
        "id": "c3kd2oUtM6H_",
        "outputId": "c6546bbc-67f0-46d9-dbcf-438fb1900eff"
      },
      "outputs": [
        {
          "output_type": "display_data",
          "data": {
            "text/plain": [
              "<Figure size 432x288 with 1 Axes>"
            ],
            "image/png": "[encoded data removed]"
          },
          "metadata": {
            "needs_background": "light"
          }
        },
        {
          "output_type": "display_data",
          "data": {
            "text/plain": [
              "<Figure size 432x288 with 1 Axes>"
            ],
            "image/png": "[encoded data removed]"
          },
          "metadata": {
            "needs_background": "light"
          }
        },
        {
          "output_type": "display_data",
          "data": {
            "text/plain": [
              "<Figure size 432x288 with 1 Axes>"
            ],
            "image/png": "[encoded data removed]"
          },
          "metadata": {
            "needs_background": "light"
          }
        },
        {
          "output_type": "display_data",
          "data": {
            "text/plain": [
              "<Figure size 432x288 with 1 Axes>"
            ],
            "image/png": "[encoded data removed]"
          },
          "metadata": {
            "needs_background": "light"
          }
        },
        {
          "output_type": "display_data",
          "data": {
            "text/plain": [
              "<Figure size 432x288 with 1 Axes>"
            ],
            "image/png": "[encoded data removed]"
          },
          "metadata": {
            "needs_background": "light"
          }
        }
      ],
      "source": [
        "import matplotlib.pyplot as plt\n",
        "\n",
        "feat_list = [\"Extraversion\", \n",
        "             \"Agreeableness\",\n",
        "             \"Conscientiousness\",\n",
        "             \"Neuroticism\",\n",
        "             \"Openness\"]\n",
        "\n",
        "results_df_list = [Extraversion_results_df,\n",
        "                   Agreeableness_results_df,\n",
        "                   Conscientiousness_results_df,\n",
        "                   Neuroticism_results_df,\n",
        "                   Openness_results_df]\n",
        "\n",
        "\n",
        "for feat, results_df in zip(feat_list, results_df_list):\n",
        "    \n",
        "    plt.plot(results_df['train_accuracy'], label=\"train_accuracy\")\n",
        "    plt.plot(results_df['validation_accuracy'], label=\"validation_accuracy\")\n",
        "    plt.title('Accuracy values for the feature: ' + str(feat))\n",
        "    plt.ylabel('Accuracy')\n",
        "    plt.xlabel('Number of epochs')\n",
        "    plt.legend()\n",
        "    plt.show()"
      ]
    },
    {
      "cell_type": "code",
      "execution_count": null,
      "metadata": {
        "id": "Q_a0QfR4tffZ"
      },
      "outputs": [],
      "source": [
        ""
      ]
    }
  ],
  "metadata": {
    "accelerator": "GPU",
    "colab": {
      "collapsed_sections": [],
      "name": "pipeline - colab_version.ipynb",
      "provenance": [],
      "machine_shape": "hm",
      "background_execution": "on"
    },
    "interpreter": {
      "hash": "a1a47bf819ad7cd48b1d6f6457c70b719b72bc4eea580dc2d5ab4e404b26ab46"
    },
    "kernelspec": {
      "display_name": "Python 3 (ipykernel)",
      "language": "python",
      "name": "python3"
    },
    "language_info": {
      "codemirror_mode": {
        "name": "ipython",
        "version": 3
      },
      "file_extension": ".py",
      "mimetype": "text/x-python",
      "name": "python",
      "nbconvert_exporter": "python",
      "pygments_lexer": "ipython3",
      "version": "3.9.7"
    }
  },
  "nbformat": 4,
  "nbformat_minor": 0
}