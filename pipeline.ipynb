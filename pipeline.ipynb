{
  "cells": [
    {
      "cell_type": "code",
      "execution_count": 1,
      "metadata": {
        "id": "3jylz3QcJUq_"
      },
      "outputs": [],
      "source": [
        "import librosa\n",
        "import os\n",
        "import pandas as pd\n",
        "import pickle\n",
        "from sklearn.model_selection import train_test_split\n",
        "import numpy as np\n",
        "import torch\n",
        "import numpy as np\n",
        "import torch.nn as nn\n",
        "import torch.nn.functional as F\n",
        "#from torchsummaryX import summary\n",
        "from torch.utils.data import Dataset, DataLoader\n",
        "from torch.nn.utils.rnn import pad_sequence, pack_padded_sequence, pad_packed_sequence\n",
        "import csv\n",
        "import torch.optim as optim\n",
        "from tqdm import tqdm\n",
        "#import feature_extraction.py"
      ]
    },
    {
      "cell_type": "markdown",
      "source": [
        "# New Section"
      ],
      "metadata": {
        "id": "NeT3t9IWJy2V"
      }
    },
    {
      "cell_type": "code",
      "execution_count": 2,
      "metadata": {
        "id": "nd-3Yvn1JUrD"
      },
      "outputs": [],
      "source": [
        "with open('./processed_data.pkl', 'rb') as f:\n",
        "    data = pickle.load(f)"
      ]
    },
    {
      "cell_type": "code",
      "execution_count": 3,
      "metadata": {
        "colab": {
          "base_uri": "https://localhost:8080/",
          "height": 530
        },
        "id": "sAwaWZoKJUrF",
        "outputId": "a0dc1676-79d9-4874-e113-f4750f94e5d3"
      },
      "outputs": [
        {
          "output_type": "execute_result",
          "data": {
            "text/plain": [
              "                  Clip_ID  Extraversion  Agreeableness  Conscientiousness  \\\n",
              "0   cut_feb1601-guest-0-2      1.727273      -1.363636           1.545455   \n",
              "1  cut_feb1601-guest-2-10      0.727273       1.181818           1.909091   \n",
              "2     cut_feb1601-human-6      2.363636      -0.636364           1.363636   \n",
              "3   cut_feb1602-guest-1-5      1.272727       0.636364           1.818182   \n",
              "4  cut_feb1602-guest-3-17      1.363636      -0.909091           2.181818   \n",
              "\n",
              "   Neuroticism  Openness  Speaker_ID Gender Status  \\\n",
              "0     1.545455  0.727273          92      M      J   \n",
              "1    -1.727273  0.909091         183      M      J   \n",
              "2    -0.545455  0.363636          41      M      G   \n",
              "3    -0.454545  0.000000           3      M      J   \n",
              "4     0.909091  0.636364         123      M      J   \n",
              "\n",
              "                                            features  \n",
              "0  [[0.00027620237, 0.0016822875, 0.001016233, 0....  \n",
              "1  [[0.38929665, 0.1189508, 0.0048722113, 0.00183...  \n",
              "2  [[0.7792231, 0.29407483, 0.03487174, 0.0134306...  \n",
              "3  [[0.10963277, 0.09769615, 0.021039093, 0.02427...  \n",
              "4  [[0.077622935, 0.14913887, 0.041750234, 0.0176...  "
            ],
            "text/html": [
              "\n",
              "  <div id=\"df-c080edac-4455-437d-8588-44f2f083ebdc\">\n",
              "    <div class=\"colab-df-container\">\n",
              "      <div>\n",
              "<style scoped>\n",
              "    .dataframe tbody tr th:only-of-type {\n",
              "        vertical-align: middle;\n",
              "    }\n",
              "\n",
              "    .dataframe tbody tr th {\n",
              "        vertical-align: top;\n",
              "    }\n",
              "\n",
              "    .dataframe thead th {\n",
              "        text-align: right;\n",
              "    }\n",
              "</style>\n",
              "<table border=\"1\" class=\"dataframe\">\n",
              "  <thead>\n",
              "    <tr style=\"text-align: right;\">\n",
              "      <th></th>\n",
              "      <th>Clip_ID</th>\n",
              "      <th>Extraversion</th>\n",
              "      <th>Agreeableness</th>\n",
              "      <th>Conscientiousness</th>\n",
              "      <th>Neuroticism</th>\n",
              "      <th>Openness</th>\n",
              "      <th>Speaker_ID</th>\n",
              "      <th>Gender</th>\n",
              "      <th>Status</th>\n",
              "      <th>features</th>\n",
              "    </tr>\n",
              "  </thead>\n",
              "  <tbody>\n",
              "    <tr>\n",
              "      <th>0</th>\n",
              "      <td>cut_feb1601-guest-0-2</td>\n",
              "      <td>1.727273</td>\n",
              "      <td>-1.363636</td>\n",
              "      <td>1.545455</td>\n",
              "      <td>1.545455</td>\n",
              "      <td>0.727273</td>\n",
              "      <td>92</td>\n",
              "      <td>M</td>\n",
              "      <td>J</td>\n",
              "      <td>[[0.00027620237, 0.0016822875, 0.001016233, 0....</td>\n",
              "    </tr>\n",
              "    <tr>\n",
              "      <th>1</th>\n",
              "      <td>cut_feb1601-guest-2-10</td>\n",
              "      <td>0.727273</td>\n",
              "      <td>1.181818</td>\n",
              "      <td>1.909091</td>\n",
              "      <td>-1.727273</td>\n",
              "      <td>0.909091</td>\n",
              "      <td>183</td>\n",
              "      <td>M</td>\n",
              "      <td>J</td>\n",
              "      <td>[[0.38929665, 0.1189508, 0.0048722113, 0.00183...</td>\n",
              "    </tr>\n",
              "    <tr>\n",
              "      <th>2</th>\n",
              "      <td>cut_feb1601-human-6</td>\n",
              "      <td>2.363636</td>\n",
              "      <td>-0.636364</td>\n",
              "      <td>1.363636</td>\n",
              "      <td>-0.545455</td>\n",
              "      <td>0.363636</td>\n",
              "      <td>41</td>\n",
              "      <td>M</td>\n",
              "      <td>G</td>\n",
              "      <td>[[0.7792231, 0.29407483, 0.03487174, 0.0134306...</td>\n",
              "    </tr>\n",
              "    <tr>\n",
              "      <th>3</th>\n",
              "      <td>cut_feb1602-guest-1-5</td>\n",
              "      <td>1.272727</td>\n",
              "      <td>0.636364</td>\n",
              "      <td>1.818182</td>\n",
              "      <td>-0.454545</td>\n",
              "      <td>0.000000</td>\n",
              "      <td>3</td>\n",
              "      <td>M</td>\n",
              "      <td>J</td>\n",
              "      <td>[[0.10963277, 0.09769615, 0.021039093, 0.02427...</td>\n",
              "    </tr>\n",
              "    <tr>\n",
              "      <th>4</th>\n",
              "      <td>cut_feb1602-guest-3-17</td>\n",
              "      <td>1.363636</td>\n",
              "      <td>-0.909091</td>\n",
              "      <td>2.181818</td>\n",
              "      <td>0.909091</td>\n",
              "      <td>0.636364</td>\n",
              "      <td>123</td>\n",
              "      <td>M</td>\n",
              "      <td>J</td>\n",
              "      <td>[[0.077622935, 0.14913887, 0.041750234, 0.0176...</td>\n",
              "    </tr>\n",
              "  </tbody>\n",
              "</table>\n",
              "</div>\n",
              "      <button class=\"colab-df-convert\" onclick=\"convertToInteractive('df-c080edac-4455-437d-8588-44f2f083ebdc')\"\n",
              "              title=\"Convert this dataframe to an interactive table.\"\n",
              "              style=\"display:none;\">\n",
              "        \n",
              "  <svg xmlns=\"http://www.w3.org/2000/svg\" height=\"24px\"viewBox=\"0 0 24 24\"\n",
              "       width=\"24px\">\n",
              "    <path d=\"M0 0h24v24H0V0z\" fill=\"none\"/>\n",
              "    <path d=\"M18.56 5.44l.94 2.06.94-2.06 2.06-.94-2.06-.94-.94-2.06-.94 2.06-2.06.94zm-11 1L8.5 8.5l.94-2.06 2.06-.94-2.06-.94L8.5 2.5l-.94 2.06-2.06.94zm10 10l.94 2.06.94-2.06 2.06-.94-2.06-.94-.94-2.06-.94 2.06-2.06.94z\"/><path d=\"M17.41 7.96l-1.37-1.37c-.4-.4-.92-.59-1.43-.59-.52 0-1.04.2-1.43.59L10.3 9.45l-7.72 7.72c-.78.78-.78 2.05 0 2.83L4 21.41c.39.39.9.59 1.41.59.51 0 1.02-.2 1.41-.59l7.78-7.78 2.81-2.81c.8-.78.8-2.07 0-2.86zM5.41 20L4 18.59l7.72-7.72 1.47 1.35L5.41 20z\"/>\n",
              "  </svg>\n",
              "      </button>\n",
              "      \n",
              "  <style>\n",
              "    .colab-df-container {\n",
              "      display:flex;\n",
              "      flex-wrap:wrap;\n",
              "      gap: 12px;\n",
              "    }\n",
              "\n",
              "    .colab-df-convert {\n",
              "      background-color: #E8F0FE;\n",
              "      border: none;\n",
              "      border-radius: 50%;\n",
              "      cursor: pointer;\n",
              "      display: none;\n",
              "      fill: #1967D2;\n",
              "      height: 32px;\n",
              "      padding: 0 0 0 0;\n",
              "      width: 32px;\n",
              "    }\n",
              "\n",
              "    .colab-df-convert:hover {\n",
              "      background-color: #E2EBFA;\n",
              "      box-shadow: 0px 1px 2px rgba(60, 64, 67, 0.3), 0px 1px 3px 1px rgba(60, 64, 67, 0.15);\n",
              "      fill: #174EA6;\n",
              "    }\n",
              "\n",
              "    [theme=dark] .colab-df-convert {\n",
              "      background-color: #3B4455;\n",
              "      fill: #D2E3FC;\n",
              "    }\n",
              "\n",
              "    [theme=dark] .colab-df-convert:hover {\n",
              "      background-color: #434B5C;\n",
              "      box-shadow: 0px 1px 3px 1px rgba(0, 0, 0, 0.15);\n",
              "      filter: drop-shadow(0px 1px 2px rgba(0, 0, 0, 0.3));\n",
              "      fill: #FFFFFF;\n",
              "    }\n",
              "  </style>\n",
              "\n",
              "      <script>\n",
              "        const buttonEl =\n",
              "          document.querySelector('#df-c080edac-4455-437d-8588-44f2f083ebdc button.colab-df-convert');\n",
              "        buttonEl.style.display =\n",
              "          google.colab.kernel.accessAllowed ? 'block' : 'none';\n",
              "\n",
              "        async function convertToInteractive(key) {\n",
              "          const element = document.querySelector('#df-c080edac-4455-437d-8588-44f2f083ebdc');\n",
              "          const dataTable =\n",
              "            await google.colab.kernel.invokeFunction('convertToInteractive',\n",
              "                                                     [key], {});\n",
              "          if (!dataTable) return;\n",
              "\n",
              "          const docLinkHtml = 'Like what you see? Visit the ' +\n",
              "            '<a target=\"_blank\" href=https://colab.research.google.com/notebooks/data_table.ipynb>data table notebook</a>'\n",
              "            + ' to learn more about interactive tables.';\n",
              "          element.innerHTML = '';\n",
              "          dataTable['output_type'] = 'display_data';\n",
              "          await google.colab.output.renderOutput(dataTable, element);\n",
              "          const docLink = document.createElement('div');\n",
              "          docLink.innerHTML = docLinkHtml;\n",
              "          element.appendChild(docLink);\n",
              "        }\n",
              "      </script>\n",
              "    </div>\n",
              "  </div>\n",
              "  "
            ]
          },
          "metadata": {},
          "execution_count": 3
        }
      ],
      "source": [
        "data.head()"
      ]
    },
    {
      "cell_type": "code",
      "execution_count": 4,
      "metadata": {
        "id": "LZThHOsWJUrG"
      },
      "outputs": [],
      "source": [
        "#Split dataframe into train, validation, and test sets\n",
        "train, val, test = np.split(data.sample(frac=1, random_state=101),\n",
        "[int(.7*len(data)), int(.85*len(data))])"
      ]
    },
    {
      "cell_type": "code",
      "execution_count": 5,
      "metadata": {
        "id": "vuYUE9ZnJUrH",
        "colab": {
          "base_uri": "https://localhost:8080/"
        },
        "outputId": "3698159c-e8f5-4ba1-cbf0-584a138fbac6"
      },
      "outputs": [
        {
          "output_type": "execute_result",
          "data": {
            "text/plain": [
              "numpy.ndarray"
            ]
          },
          "metadata": {},
          "execution_count": 5
        }
      ],
      "source": [
        "type(data['features'].iloc[0])"
      ]
    },
    {
      "cell_type": "code",
      "execution_count": 6,
      "metadata": {
        "id": "e6Dzck6kJUrI",
        "colab": {
          "base_uri": "https://localhost:8080/"
        },
        "outputId": "b90f19df-0398-4f4c-b378-053fbd175229"
      },
      "outputs": [
        {
          "output_type": "execute_result",
          "data": {
            "text/plain": [
              "(128, 431)"
            ]
          },
          "metadata": {},
          "execution_count": 6
        }
      ],
      "source": [
        "train['features'].iloc[5].shape"
      ]
    },
    {
      "cell_type": "code",
      "execution_count": 7,
      "metadata": {
        "id": "ulTapFcEJUrJ"
      },
      "outputs": [],
      "source": [
        "class LibriSamples(torch.utils.data.Dataset):\n",
        "    #Partition: the dataframe\n",
        "    def __init__(self, dataframe, test_order=None, trait=None):\n",
        "        #self.train=train\n",
        "\n",
        "        #The personality trait for this run through\n",
        "        self.trait = trait\n",
        "        self.dataframe = dataframe\n",
        "        #self.partition = partition\n",
        "\n",
        "    def __len__(self):\n",
        "        return len(self.dataframe.index)\n",
        "    \n",
        "\n",
        "    def __getitem__(self, ind):\n",
        "        #X = np.load(self.dataframe['features'].iloc[ind])\n",
        "        X = self.dataframe['features'].iloc[ind]\n",
        "        #Must transpose X so the the first value is length of audio and second value is number of features\n",
        "        X = X.transpose()\n",
        "        #if self.train:\n",
        "        #Y = np.array(self.dataframe[self.trait].iloc[ind])\n",
        "        Y = torch.tensor([self.dataframe[self.trait].iloc[ind]])\n",
        "        #if self.train:\n",
        "        return X, Y\n",
        "        #else:\n",
        "        #return X\n",
        "\n",
        "\n",
        "    def collate_fn(batch):\n",
        "        batch_x = [torch.from_numpy(x) for x,y in batch]\n",
        "        batch_y = [y for x,y in batch]\n",
        "        batch_x_pad = pad_sequence(batch_x, batch_first=True)\n",
        "\n",
        "        lengths_x = [x.shape[0] for x in batch_x]\n",
        "\n",
        "        #The y's should only have a length of 1, but we'll pad it anyway\n",
        "\n",
        "        batch_y_pad = pad_sequence(batch_y, batch_first=True)\n",
        "        #lengths_y = [y.shape[0] for y in batch_y]\n",
        "        lengths_y = [y.shape[0] for y in batch_y]\n",
        "\n",
        "        return batch_x_pad, batch_y_pad, torch.tensor(lengths_x), torch.tensor(lengths_y)\n"
      ]
    },
    {
      "cell_type": "code",
      "execution_count": 8,
      "metadata": {
        "id": "5rcfrzotJUrL"
      },
      "outputs": [],
      "source": [
        "train_data = LibriSamples(train, trait='Extraversion')\n",
        "val_data = LibriSamples(val, trait='Extraversion')\n",
        "test_data = LibriSamples(test, trait='Extraversion')"
      ]
    },
    {
      "cell_type": "code",
      "execution_count": 9,
      "metadata": {
        "id": "7lzDrp4-JUrL"
      },
      "outputs": [],
      "source": [
        "batch_size = 64\n",
        "lr = 2e-3\n",
        "epochs=2"
      ]
    },
    {
      "cell_type": "code",
      "execution_count": 10,
      "metadata": {
        "colab": {
          "base_uri": "https://localhost:8080/"
        },
        "id": "4kzo7NwnJUrM",
        "outputId": "da03ec67-5eef-4870-d8f4-e752a036b0c8"
      },
      "outputs": [
        {
          "output_type": "stream",
          "name": "stdout",
          "text": [
            "Batch size:  64\n",
            "Train dataset samples = 448, batches = 7\n",
            "Val dataset samples = 96, batches = 2\n",
            "Test dataset samples = 96, batches = 2\n"
          ]
        }
      ],
      "source": [
        "train_loader = torch.utils.data.DataLoader(train_data, batch_size = batch_size, shuffle=True, collate_fn = LibriSamples.collate_fn)\n",
        "val_loader = torch.utils.data.DataLoader(val_data, batch_size = batch_size, shuffle=False, collate_fn = LibriSamples.collate_fn) \n",
        "test_loader = torch.utils.data.DataLoader(test_data, batch_size = batch_size, shuffle=False, collate_fn = LibriSamples.collate_fn) \n",
        "\n",
        "print(\"Batch size: \", batch_size)\n",
        "print(\"Train dataset samples = {}, batches = {}\".format(train_data.__len__(), len(train_loader)))\n",
        "print(\"Val dataset samples = {}, batches = {}\".format(val_data.__len__(), len(val_loader)))\n",
        "print(\"Test dataset samples = {}, batches = {}\".format(test_data.__len__(), len(test_loader)))"
      ]
    },
    {
      "cell_type": "code",
      "execution_count": 11,
      "metadata": {
        "colab": {
          "base_uri": "https://localhost:8080/"
        },
        "id": "ZKjTJYR4JUrN",
        "outputId": "7a053f7e-c9c3-40b0-d9f1-51de10e896d2"
      },
      "outputs": [
        {
          "output_type": "stream",
          "name": "stdout",
          "text": [
            "torch.Size([64, 431, 128]) torch.Size([64, 1]) torch.Size([64]) torch.Size([64])\n"
          ]
        }
      ],
      "source": [
        "for data in val_loader:\n",
        "    x, y, lx, ly = data\n",
        "    print(x.shape, y.shape, lx.shape, ly.shape)\n",
        "    break"
      ]
    },
    {
      "cell_type": "code",
      "execution_count": 12,
      "metadata": {
        "id": "SzMPOSqGJUrO"
      },
      "outputs": [],
      "source": [
        "import pdb"
      ]
    },
    {
      "cell_type": "code",
      "execution_count": 18,
      "metadata": {
        "id": "lyS2o68JJUrP"
      },
      "outputs": [],
      "source": [
        "class Network(nn.Module):\n",
        "\n",
        "    def __init__(self): # You can add any extra arguments as you wish\n",
        "\n",
        "        super(Network, self).__init__()\n",
        "        \n",
        "        self.lstm = nn.LSTM(input_size=128, hidden_size = 256, num_layers=1, dropout=.1, bidirectional=True, batch_first=True)\n",
        "\n",
        "        self.classification = nn.Sequential(nn.ReLU(),\n",
        "                                            nn.Linear(512,1))\n",
        "            \n",
        "\n",
        "    def forward(self, x, x_length): \n",
        "        print(x.shape)\n",
        "        #x = torch.transpose(x, 1, 2)\n",
        "        print(x.shape)\n",
        "        print(x_length)\n",
        "        packed_input = pack_padded_sequence(x,x_length, batch_first = True, enforce_sorted=False)\n",
        "\n",
        "        \n",
        "        #packed_input = pack_padded_sequence(x,length.clamp(max=max_expected_len), batch_first = True, enforce_sorted=False)\n",
        "        #pdb.set_trace()\n",
        "        out1, (out2, out3) =  self.lstm(packed_input) \n",
        "        # As you may see from the LSTM docs, LSTM returns 3 vectors. Which one do you need to pass to the next function?\n",
        "        out, lengths  = pad_packed_sequence(out1, batch_first=True) \n",
        "        #pdb.set_trace()\n",
        "        #pdb.set_trace()\n",
        "        #out = self.classification(out) \n",
        "\n",
        "        #Is dimension 2 or 3? Or something else?\n",
        "   \n",
        "        #m = n.LogSoftmax(dim=2) # Optional: Do log softmax on the output. Which dimension?\n",
        "        #out = F.log_softmax(out,dim=2)\n",
        "\n",
        "\n",
        "        return out, lengths \n",
        "\n",
        "#model = Network().to(device)"
      ]
    },
    {
      "cell_type": "code",
      "execution_count": 19,
      "metadata": {
        "colab": {
          "base_uri": "https://localhost:8080/"
        },
        "id": "AtKarinSJUrP",
        "outputId": "22e62331-45f3-4983-890a-76b0a0cd9003"
      },
      "outputs": [
        {
          "output_type": "stream",
          "name": "stdout",
          "text": [
            "Network(\n",
            "  (lstm): LSTM(128, 256, batch_first=True, dropout=0.1, bidirectional=True)\n",
            "  (classification): Sequential(\n",
            "    (0): ReLU()\n",
            "    (1): Linear(in_features=512, out_features=1, bias=True)\n",
            "  )\n",
            ")\n"
          ]
        },
        {
          "output_type": "stream",
          "name": "stderr",
          "text": [
            "/usr/local/lib/python3.7/dist-packages/torch/nn/modules/rnn.py:65: UserWarning: dropout option adds dropout after all but last recurrent layer, so non-zero dropout expects num_layers greater than 1, but got dropout=0.1 and num_layers=1\n",
            "  \"num_layers={}\".format(dropout, num_layers))\n"
          ]
        }
      ],
      "source": [
        "device = 'cuda' if torch.cuda.is_available() else 'cpu'\n",
        "\n",
        "model = Network().to(device)\n",
        "print(model)"
      ]
    },
    {
      "cell_type": "code",
      "execution_count": 20,
      "metadata": {
        "id": "Eo0qpBACJUrQ"
      },
      "outputs": [],
      "source": [
        "criterion = nn.L1Loss()\n",
        "optimizer = torch.optim.Adam(model.parameters(), lr = lr)\n",
        "scaler = torch.cuda.amp.GradScaler()\n"
      ]
    },
    {
      "cell_type": "code",
      "execution_count": 23,
      "metadata": {
        "colab": {
          "base_uri": "https://localhost:8080/",
          "height": 1000
        },
        "id": "E-UpMGmcJUrQ",
        "outputId": "e59786e4-b93c-4cf4-9c81-d4e12a1bb313"
      },
      "outputs": [
        {
          "output_type": "stream",
          "name": "stderr",
          "text": [
            "                                            "
          ]
        },
        {
          "output_type": "stream",
          "name": "stdout",
          "text": [
            "torch.Size([64, 431, 128])\n",
            "torch.Size([64, 431, 128])\n",
            "tensor([431, 431, 431, 431, 431, 431, 431, 431, 431, 431, 431, 431, 431, 431,\n",
            "        431, 431, 431, 431, 431, 431, 431, 431, 431, 431, 431, 431, 431, 431,\n",
            "        431, 431, 431, 431, 431, 373, 431, 431, 431, 431, 431, 431, 431, 431,\n",
            "        431, 431, 431, 431, 431, 431, 431, 431, 431, 431, 431, 431, 431, 431,\n",
            "        431, 431, 431, 431, 149, 431, 431, 431])\n",
            "output:  torch.Size([64, 431, 512])\n",
            "y:  torch.Size([64, 1])\n",
            "tensor([[[-1.1009e-02,  1.9424e-02, -4.3915e-02,  ..., -1.9519e-01,\n",
            "          -2.2476e-02, -2.2485e-01],\n",
            "         [ 3.2776e-02,  6.0486e-02, -3.3508e-02,  ..., -3.5547e-01,\n",
            "          -5.8777e-02, -3.7866e-01],\n",
            "         [ 1.0260e-01, -1.0323e-02,  1.8506e-01,  ..., -4.9170e-01,\n",
            "          -5.2704e-02, -4.2139e-01],\n",
            "         ...,\n",
            "         [-2.7368e-01,  7.2754e-01, -7.9541e-01,  ...,  4.3701e-01,\n",
            "           1.0908e-05, -1.3062e-02],\n",
            "         [-4.4458e-01,  1.4185e-01, -7.6611e-01,  ..., -1.0852e-01,\n",
            "           2.3842e-06, -5.0402e-04],\n",
            "         [-6.7676e-01,  8.2827e-04, -7.7148e-01,  ..., -6.9775e-01,\n",
            "           5.9605e-07, -9.7752e-06]],\n",
            "\n",
            "        [[-1.2779e-03,  5.5656e-03,  4.8256e-03,  ..., -3.8025e-02,\n",
            "           2.8839e-02, -3.3173e-02],\n",
            "         [-3.5267e-03,  1.2787e-02,  8.0185e-03,  ..., -3.8696e-02,\n",
            "           2.9999e-02, -2.7451e-02],\n",
            "         [-5.0659e-03,  1.8555e-02,  8.5907e-03,  ..., -4.0100e-02,\n",
            "           3.0914e-02, -2.3590e-02],\n",
            "         ...,\n",
            "         [ 3.4618e-03,  3.5217e-02,  2.5726e-02,  ..., -4.6600e-02,\n",
            "           3.2196e-02, -2.7100e-02],\n",
            "         [ 2.9430e-03,  3.3997e-02,  2.4796e-02,  ..., -4.6722e-02,\n",
            "           3.0396e-02, -2.1637e-02],\n",
            "         [ 3.9673e-03,  3.3844e-02,  2.8351e-02,  ..., -3.4698e-02,\n",
            "           2.1622e-02, -1.1108e-02]],\n",
            "\n",
            "        [[-4.1107e-02,  3.0766e-03,  1.4282e-02,  ...,  9.6619e-02,\n",
            "          -1.4404e-01,  2.7856e-01],\n",
            "         [-1.8921e-01, -9.4604e-02,  1.8481e-01,  ...,  4.4507e-01,\n",
            "          -2.3633e-01,  6.7139e-01],\n",
            "         [-8.8882e-03, -8.3191e-02,  4.0015e-01,  ...,  7.7051e-01,\n",
            "          -1.8494e-02,  9.6484e-01],\n",
            "         ...,\n",
            "         [ 1.2255e-04, -5.1758e-02,  3.3936e-02,  ..., -7.6074e-01,\n",
            "          -0.0000e+00, -3.8232e-01],\n",
            "         [-1.3113e-06, -7.0264e-01,  6.5039e-01,  ..., -7.0947e-01,\n",
            "           0.0000e+00, -3.7939e-01],\n",
            "         [-4.8096e-02, -6.4404e-01,  7.3779e-01,  ..., -3.2666e-01,\n",
            "           9.6560e-06, -3.6401e-01]],\n",
            "\n",
            "        ...,\n",
            "\n",
            "        [[-1.2585e-01, -8.1940e-03, -2.4155e-02,  ..., -3.7769e-01,\n",
            "           5.6343e-03, -5.8746e-04],\n",
            "         [-3.7524e-01, -2.7786e-02, -3.4149e-02,  ..., -5.4541e-01,\n",
            "           4.3762e-02, -1.0626e-01],\n",
            "         [-6.7334e-01, -7.5806e-02,  3.4814e-01,  ..., -7.4316e-01,\n",
            "           1.9646e-03, -1.9397e-01],\n",
            "         ...,\n",
            "         [-3.4180e-01, -2.4750e-02,  4.9133e-02,  ..., -1.7838e-02,\n",
            "          -5.4932e-03, -1.5129e-02],\n",
            "         [-2.9419e-01, -5.4413e-02,  7.3059e-02,  ..., -1.9272e-02,\n",
            "           2.4548e-03, -1.6861e-02],\n",
            "         [-1.8518e-01, -6.7505e-02,  4.9927e-02,  ..., -1.2494e-01,\n",
            "          -4.9362e-03, -1.8814e-02]],\n",
            "\n",
            "        [[-1.7633e-03,  1.0612e-02,  2.8496e-03,  ..., -2.0004e-02,\n",
            "           3.2867e-02, -3.9673e-02],\n",
            "         [-3.4447e-03,  1.7395e-02,  5.0964e-03,  ..., -7.5378e-03,\n",
            "           3.8605e-02, -4.9713e-02],\n",
            "         [-3.4122e-03,  2.3819e-02,  9.7046e-03,  ...,  1.4198e-02,\n",
            "           4.8523e-02, -6.5552e-02],\n",
            "         ...,\n",
            "         [-7.4658e-01,  7.6221e-01, -9.9756e-01,  ..., -6.1607e-03,\n",
            "          -8.6746e-03, -1.0547e-01],\n",
            "         [-2.8610e-06,  3.4760e-02,  6.9824e-01,  ..., -9.1064e-01,\n",
            "          -2.9297e-03, -7.6172e-01],\n",
            "         [-3.5644e-05,  1.8120e-05,  4.6997e-01,  ..., -7.6074e-01,\n",
            "          -3.3975e-06, -7.3291e-01]],\n",
            "\n",
            "        [[ 2.6428e-02, -1.0048e-02,  6.9962e-03,  ...,  2.5610e-01,\n",
            "           1.3403e-01, -1.7731e-02],\n",
            "         [ 3.2196e-02, -2.2964e-03,  4.0771e-02,  ...,  4.5898e-01,\n",
            "           9.5825e-02,  1.3435e-02],\n",
            "         [ 1.0513e-02,  1.7914e-02,  5.4199e-02,  ...,  5.4150e-01,\n",
            "           4.2480e-02,  8.9722e-02],\n",
            "         ...,\n",
            "         [-3.6938e-01,  4.1138e-02, -5.4047e-02,  ...,  3.6768e-01,\n",
            "          -5.8154e-01, -4.3854e-02],\n",
            "         [-3.5767e-01,  4.9927e-02, -1.1475e-01,  ...,  4.1626e-01,\n",
            "          -4.3262e-01, -5.2917e-02],\n",
            "         [-4.1479e-01,  9.1064e-02, -1.5686e-01,  ...,  2.9712e-01,\n",
            "          -1.8335e-01, -6.6711e-02]]], device='cuda:0', dtype=torch.float16,\n",
            "       grad_fn=<IndexSelectBackward0>)\n"
          ]
        },
        {
          "output_type": "stream",
          "name": "stderr",
          "text": [
            "\r/usr/local/lib/python3.7/dist-packages/torch/nn/modules/loss.py:96: UserWarning: Using a target size (torch.Size([64, 1])) that is different to the input size (torch.Size([431, 512])). This will likely lead to incorrect results due to broadcasting. Please ensure they have the same size.\n",
            "  return F.l1_loss(input, target, reduction=self.reduction)\n"
          ]
        },
        {
          "output_type": "error",
          "ename": "RuntimeError",
          "evalue": "ignored",
          "traceback": [
            "\u001b[0;31m---------------------------------------------------------------------------\u001b[0m",
            "\u001b[0;31mRuntimeError\u001b[0m                              Traceback (most recent call last)",
            "\u001b[0;32m<ipython-input-23-54907ffc84a7>\u001b[0m in \u001b[0;36m<module>\u001b[0;34m()\u001b[0m\n\u001b[1;32m     15\u001b[0m             \u001b[0mprint\u001b[0m\u001b[0;34m(\u001b[0m\u001b[0;34m'y: '\u001b[0m\u001b[0;34m,\u001b[0m \u001b[0my\u001b[0m\u001b[0;34m.\u001b[0m\u001b[0mshape\u001b[0m\u001b[0;34m)\u001b[0m\u001b[0;34m\u001b[0m\u001b[0;34m\u001b[0m\u001b[0m\n\u001b[1;32m     16\u001b[0m             \u001b[0mprint\u001b[0m\u001b[0;34m(\u001b[0m\u001b[0moutputs\u001b[0m\u001b[0;34m[\u001b[0m\u001b[0;36m0\u001b[0m\u001b[0;34m]\u001b[0m\u001b[0;34m)\u001b[0m\u001b[0;34m\u001b[0m\u001b[0;34m\u001b[0m\u001b[0m\n\u001b[0;32m---> 17\u001b[0;31m             \u001b[0mloss\u001b[0m \u001b[0;34m=\u001b[0m \u001b[0mcriterion\u001b[0m\u001b[0;34m(\u001b[0m\u001b[0moutputs\u001b[0m\u001b[0;34m[\u001b[0m\u001b[0;36m0\u001b[0m\u001b[0;34m]\u001b[0m\u001b[0;34m[\u001b[0m\u001b[0;34m-\u001b[0m\u001b[0;36m1\u001b[0m\u001b[0;34m]\u001b[0m\u001b[0;34m,\u001b[0m \u001b[0my\u001b[0m\u001b[0;34m)\u001b[0m\u001b[0;34m\u001b[0m\u001b[0;34m\u001b[0m\u001b[0m\n\u001b[0m\u001b[1;32m     18\u001b[0m \u001b[0;34m\u001b[0m\u001b[0m\n\u001b[1;32m     19\u001b[0m     \u001b[0mtotal_loss\u001b[0m \u001b[0;34m+=\u001b[0m \u001b[0mloss\u001b[0m\u001b[0;34m\u001b[0m\u001b[0;34m\u001b[0m\u001b[0m\n",
            "\u001b[0;32m/usr/local/lib/python3.7/dist-packages/torch/nn/modules/module.py\u001b[0m in \u001b[0;36m_call_impl\u001b[0;34m(self, *input, **kwargs)\u001b[0m\n\u001b[1;32m   1100\u001b[0m         if not (self._backward_hooks or self._forward_hooks or self._forward_pre_hooks or _global_backward_hooks\n\u001b[1;32m   1101\u001b[0m                 or _global_forward_hooks or _global_forward_pre_hooks):\n\u001b[0;32m-> 1102\u001b[0;31m             \u001b[0;32mreturn\u001b[0m \u001b[0mforward_call\u001b[0m\u001b[0;34m(\u001b[0m\u001b[0;34m*\u001b[0m\u001b[0minput\u001b[0m\u001b[0;34m,\u001b[0m \u001b[0;34m**\u001b[0m\u001b[0mkwargs\u001b[0m\u001b[0;34m)\u001b[0m\u001b[0;34m\u001b[0m\u001b[0;34m\u001b[0m\u001b[0m\n\u001b[0m\u001b[1;32m   1103\u001b[0m         \u001b[0;31m# Do not call functions when jit is used\u001b[0m\u001b[0;34m\u001b[0m\u001b[0;34m\u001b[0m\u001b[0;34m\u001b[0m\u001b[0m\n\u001b[1;32m   1104\u001b[0m         \u001b[0mfull_backward_hooks\u001b[0m\u001b[0;34m,\u001b[0m \u001b[0mnon_full_backward_hooks\u001b[0m \u001b[0;34m=\u001b[0m \u001b[0;34m[\u001b[0m\u001b[0;34m]\u001b[0m\u001b[0;34m,\u001b[0m \u001b[0;34m[\u001b[0m\u001b[0;34m]\u001b[0m\u001b[0;34m\u001b[0m\u001b[0;34m\u001b[0m\u001b[0m\n",
            "\u001b[0;32m/usr/local/lib/python3.7/dist-packages/torch/nn/modules/loss.py\u001b[0m in \u001b[0;36mforward\u001b[0;34m(self, input, target)\u001b[0m\n\u001b[1;32m     94\u001b[0m \u001b[0;34m\u001b[0m\u001b[0m\n\u001b[1;32m     95\u001b[0m     \u001b[0;32mdef\u001b[0m \u001b[0mforward\u001b[0m\u001b[0;34m(\u001b[0m\u001b[0mself\u001b[0m\u001b[0;34m,\u001b[0m \u001b[0minput\u001b[0m\u001b[0;34m:\u001b[0m \u001b[0mTensor\u001b[0m\u001b[0;34m,\u001b[0m \u001b[0mtarget\u001b[0m\u001b[0;34m:\u001b[0m \u001b[0mTensor\u001b[0m\u001b[0;34m)\u001b[0m \u001b[0;34m->\u001b[0m \u001b[0mTensor\u001b[0m\u001b[0;34m:\u001b[0m\u001b[0;34m\u001b[0m\u001b[0;34m\u001b[0m\u001b[0m\n\u001b[0;32m---> 96\u001b[0;31m         \u001b[0;32mreturn\u001b[0m \u001b[0mF\u001b[0m\u001b[0;34m.\u001b[0m\u001b[0ml1_loss\u001b[0m\u001b[0;34m(\u001b[0m\u001b[0minput\u001b[0m\u001b[0;34m,\u001b[0m \u001b[0mtarget\u001b[0m\u001b[0;34m,\u001b[0m \u001b[0mreduction\u001b[0m\u001b[0;34m=\u001b[0m\u001b[0mself\u001b[0m\u001b[0;34m.\u001b[0m\u001b[0mreduction\u001b[0m\u001b[0;34m)\u001b[0m\u001b[0;34m\u001b[0m\u001b[0;34m\u001b[0m\u001b[0m\n\u001b[0m\u001b[1;32m     97\u001b[0m \u001b[0;34m\u001b[0m\u001b[0m\n\u001b[1;32m     98\u001b[0m \u001b[0;34m\u001b[0m\u001b[0m\n",
            "\u001b[0;32m/usr/local/lib/python3.7/dist-packages/torch/nn/functional.py\u001b[0m in \u001b[0;36ml1_loss\u001b[0;34m(input, target, size_average, reduce, reduction)\u001b[0m\n\u001b[1;32m   3078\u001b[0m         \u001b[0mreduction\u001b[0m \u001b[0;34m=\u001b[0m \u001b[0m_Reduction\u001b[0m\u001b[0;34m.\u001b[0m\u001b[0mlegacy_get_string\u001b[0m\u001b[0;34m(\u001b[0m\u001b[0msize_average\u001b[0m\u001b[0;34m,\u001b[0m \u001b[0mreduce\u001b[0m\u001b[0;34m)\u001b[0m\u001b[0;34m\u001b[0m\u001b[0;34m\u001b[0m\u001b[0m\n\u001b[1;32m   3079\u001b[0m \u001b[0;34m\u001b[0m\u001b[0m\n\u001b[0;32m-> 3080\u001b[0;31m     \u001b[0mexpanded_input\u001b[0m\u001b[0;34m,\u001b[0m \u001b[0mexpanded_target\u001b[0m \u001b[0;34m=\u001b[0m \u001b[0mtorch\u001b[0m\u001b[0;34m.\u001b[0m\u001b[0mbroadcast_tensors\u001b[0m\u001b[0;34m(\u001b[0m\u001b[0minput\u001b[0m\u001b[0;34m,\u001b[0m \u001b[0mtarget\u001b[0m\u001b[0;34m)\u001b[0m\u001b[0;34m\u001b[0m\u001b[0;34m\u001b[0m\u001b[0m\n\u001b[0m\u001b[1;32m   3081\u001b[0m     \u001b[0;32mreturn\u001b[0m \u001b[0mtorch\u001b[0m\u001b[0;34m.\u001b[0m\u001b[0m_C\u001b[0m\u001b[0;34m.\u001b[0m\u001b[0m_nn\u001b[0m\u001b[0;34m.\u001b[0m\u001b[0ml1_loss\u001b[0m\u001b[0;34m(\u001b[0m\u001b[0mexpanded_input\u001b[0m\u001b[0;34m,\u001b[0m \u001b[0mexpanded_target\u001b[0m\u001b[0;34m,\u001b[0m \u001b[0m_Reduction\u001b[0m\u001b[0;34m.\u001b[0m\u001b[0mget_enum\u001b[0m\u001b[0;34m(\u001b[0m\u001b[0mreduction\u001b[0m\u001b[0;34m)\u001b[0m\u001b[0;34m)\u001b[0m\u001b[0;34m\u001b[0m\u001b[0;34m\u001b[0m\u001b[0m\n\u001b[1;32m   3082\u001b[0m \u001b[0;34m\u001b[0m\u001b[0m\n",
            "\u001b[0;32m/usr/local/lib/python3.7/dist-packages/torch/functional.py\u001b[0m in \u001b[0;36mbroadcast_tensors\u001b[0;34m(*tensors)\u001b[0m\n\u001b[1;32m     70\u001b[0m     \u001b[0;32mif\u001b[0m \u001b[0mhas_torch_function\u001b[0m\u001b[0;34m(\u001b[0m\u001b[0mtensors\u001b[0m\u001b[0;34m)\u001b[0m\u001b[0;34m:\u001b[0m\u001b[0;34m\u001b[0m\u001b[0;34m\u001b[0m\u001b[0m\n\u001b[1;32m     71\u001b[0m         \u001b[0;32mreturn\u001b[0m \u001b[0mhandle_torch_function\u001b[0m\u001b[0;34m(\u001b[0m\u001b[0mbroadcast_tensors\u001b[0m\u001b[0;34m,\u001b[0m \u001b[0mtensors\u001b[0m\u001b[0;34m,\u001b[0m \u001b[0;34m*\u001b[0m\u001b[0mtensors\u001b[0m\u001b[0;34m)\u001b[0m\u001b[0;34m\u001b[0m\u001b[0;34m\u001b[0m\u001b[0m\n\u001b[0;32m---> 72\u001b[0;31m     \u001b[0;32mreturn\u001b[0m \u001b[0m_VF\u001b[0m\u001b[0;34m.\u001b[0m\u001b[0mbroadcast_tensors\u001b[0m\u001b[0;34m(\u001b[0m\u001b[0mtensors\u001b[0m\u001b[0;34m)\u001b[0m  \u001b[0;31m# type: ignore[attr-defined]\u001b[0m\u001b[0;34m\u001b[0m\u001b[0;34m\u001b[0m\u001b[0m\n\u001b[0m\u001b[1;32m     73\u001b[0m \u001b[0;34m\u001b[0m\u001b[0m\n\u001b[1;32m     74\u001b[0m \u001b[0;34m\u001b[0m\u001b[0m\n",
            "\u001b[0;31mRuntimeError\u001b[0m: The size of tensor a (431) must match the size of tensor b (64) at non-singleton dimension 0"
          ]
        }
      ],
      "source": [
        "for epoch in range(epochs):\n",
        "    batch_bar = tqdm(total=len(train_loader), dynamic_ncols=True, leave=False, position=0, desc='Train') \n",
        "    model.train()\n",
        "    total_loss = 0\n",
        "\n",
        "    for i, data in enumerate(train_loader):\n",
        "        optimizer.zero_grad()\n",
        "\n",
        "        x = data[0].to(device)\n",
        "        y = data[1]\n",
        "        x_lengths = data[2]\n",
        "        with torch.cuda.amp.autocast():\n",
        "            outputs = model(x, x_lengths)\n",
        "            print('output: ', outputs[0].shape)\n",
        "            print('y: ', y.shape)\n",
        "            print(outputs[0])\n",
        "            loss = criterion(outputs[0][-1], y)\n",
        "\n",
        "    total_loss += loss\n",
        "    batch_bar.set_postfix(\n",
        "        loss=\"{:.04f}\".format(float(total_loss/(i+1)))\n",
        "    )\n",
        "\n",
        "    scaler.scale(loss).backward()\n",
        "    scaler.step(optimizer)\n",
        "    scaler.update()\n",
        "\n",
        "    batch_bar.update()"
      ]
    },
    {
      "cell_type": "code",
      "execution_count": null,
      "metadata": {
        "colab": {
          "base_uri": "https://localhost:8080/"
        },
        "id": "K1KKPIQcJUrR",
        "outputId": "935f7722-7a13-4ce3-e6a9-75b2821ae838"
      },
      "outputs": [
        {
          "output_type": "execute_result",
          "data": {
            "text/plain": [
              "7"
            ]
          },
          "metadata": {},
          "execution_count": 42
        }
      ],
      "source": [
        "len(train_loader)"
      ]
    },
    {
      "cell_type": "code",
      "execution_count": null,
      "metadata": {
        "id": "sYOqjHsuJUrS"
      },
      "outputs": [],
      "source": [
        ""
      ]
    }
  ],
  "metadata": {
    "interpreter": {
      "hash": "a1a47bf819ad7cd48b1d6f6457c70b719b72bc4eea580dc2d5ab4e404b26ab46"
    },
    "kernelspec": {
      "display_name": "Python (acram)",
      "language": "python",
      "name": "python3"
    },
    "language_info": {
      "codemirror_mode": {
        "name": "ipython",
        "version": 3
      },
      "file_extension": ".py",
      "mimetype": "text/x-python",
      "name": "python",
      "nbconvert_exporter": "python",
      "pygments_lexer": "ipython3",
      "version": "3.7.1"
    },
    "orig_nbformat": 4,
    "colab": {
      "name": "pipeline.ipynb",
      "provenance": [],
      "collapsed_sections": []
    },
    "accelerator": "GPU"
  },
  "nbformat": 4,
  "nbformat_minor": 0
}